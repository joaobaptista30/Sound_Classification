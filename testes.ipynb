{
 "cells": [
  {
   "cell_type": "markdown",
   "metadata": {},
   "source": [
    "imports"
   ]
  },
  {
   "cell_type": "code",
   "execution_count": 2,
   "metadata": {},
   "outputs": [],
   "source": [
    "import pandas as pd\n",
    "import numpy as np\n",
    "import matplotlib.pyplot as plt\n",
    "import seaborn as sns\n",
    "import librosa\n",
    "from tensorflow.keras import Sequential, regularizers, layers\n",
    "from tensorflow.keras.layers import LSTM, Dense, Dropout, Bidirectional, TimeDistributed, Flatten, BatchNormalization\n",
    "from sklearn.model_selection import train_test_split\n",
    "from sklearn.metrics import confusion_matrix\n",
    "import keras\n",
    "import os\n",
    "import pickle\n",
    "import gc"
   ]
  },
  {
   "cell_type": "markdown",
   "metadata": {},
   "source": [
    "### Para guardar os dados em disco"
   ]
  },
  {
   "cell_type": "code",
   "execution_count": 3,
   "metadata": {},
   "outputs": [],
   "source": [
    "def save_pkl(data, path):\n",
    "    try:\n",
    "        with open(path, \"wb\") as saved_data:\n",
    "            pickle.dump(data, saved_data)\n",
    "    except:\n",
    "        print('Fail to save data')\n",
    "\n",
    "def load_pkl(path):\n",
    "    try:\n",
    "        with open(path, \"rb\") as loaded_data:\n",
    "            to_return = pickle.load(loaded_data)\n",
    "            return to_return\n",
    "    except:\n",
    "        print('Fail to load data')\n",
    "        return None"
   ]
  },
  {
   "cell_type": "markdown",
   "metadata": {},
   "source": [
    "meta data"
   ]
  },
  {
   "cell_type": "code",
   "execution_count": 4,
   "metadata": {},
   "outputs": [
    {
     "data": {
      "text/html": [
       "<div>\n",
       "<style scoped>\n",
       "    .dataframe tbody tr th:only-of-type {\n",
       "        vertical-align: middle;\n",
       "    }\n",
       "\n",
       "    .dataframe tbody tr th {\n",
       "        vertical-align: top;\n",
       "    }\n",
       "\n",
       "    .dataframe thead th {\n",
       "        text-align: right;\n",
       "    }\n",
       "</style>\n",
       "<table border=\"1\" class=\"dataframe\">\n",
       "  <thead>\n",
       "    <tr style=\"text-align: right;\">\n",
       "      <th></th>\n",
       "      <th>slice_file_name</th>\n",
       "      <th>fsID</th>\n",
       "      <th>start</th>\n",
       "      <th>end</th>\n",
       "      <th>salience</th>\n",
       "      <th>fold</th>\n",
       "      <th>classID</th>\n",
       "      <th>class</th>\n",
       "    </tr>\n",
       "  </thead>\n",
       "  <tbody>\n",
       "    <tr>\n",
       "      <th>0</th>\n",
       "      <td>100032-3-0-0.wav</td>\n",
       "      <td>100032</td>\n",
       "      <td>0.0</td>\n",
       "      <td>0.317551</td>\n",
       "      <td>1</td>\n",
       "      <td>5</td>\n",
       "      <td>3</td>\n",
       "      <td>dog_bark</td>\n",
       "    </tr>\n",
       "    <tr>\n",
       "      <th>1</th>\n",
       "      <td>100263-2-0-117.wav</td>\n",
       "      <td>100263</td>\n",
       "      <td>58.5</td>\n",
       "      <td>62.500000</td>\n",
       "      <td>1</td>\n",
       "      <td>5</td>\n",
       "      <td>2</td>\n",
       "      <td>children_playing</td>\n",
       "    </tr>\n",
       "    <tr>\n",
       "      <th>2</th>\n",
       "      <td>100263-2-0-121.wav</td>\n",
       "      <td>100263</td>\n",
       "      <td>60.5</td>\n",
       "      <td>64.500000</td>\n",
       "      <td>1</td>\n",
       "      <td>5</td>\n",
       "      <td>2</td>\n",
       "      <td>children_playing</td>\n",
       "    </tr>\n",
       "    <tr>\n",
       "      <th>3</th>\n",
       "      <td>100263-2-0-126.wav</td>\n",
       "      <td>100263</td>\n",
       "      <td>63.0</td>\n",
       "      <td>67.000000</td>\n",
       "      <td>1</td>\n",
       "      <td>5</td>\n",
       "      <td>2</td>\n",
       "      <td>children_playing</td>\n",
       "    </tr>\n",
       "    <tr>\n",
       "      <th>4</th>\n",
       "      <td>100263-2-0-137.wav</td>\n",
       "      <td>100263</td>\n",
       "      <td>68.5</td>\n",
       "      <td>72.500000</td>\n",
       "      <td>1</td>\n",
       "      <td>5</td>\n",
       "      <td>2</td>\n",
       "      <td>children_playing</td>\n",
       "    </tr>\n",
       "  </tbody>\n",
       "</table>\n",
       "</div>"
      ],
      "text/plain": [
       "      slice_file_name    fsID  start        end  salience  fold  classID  \\\n",
       "0    100032-3-0-0.wav  100032    0.0   0.317551         1     5        3   \n",
       "1  100263-2-0-117.wav  100263   58.5  62.500000         1     5        2   \n",
       "2  100263-2-0-121.wav  100263   60.5  64.500000         1     5        2   \n",
       "3  100263-2-0-126.wav  100263   63.0  67.000000         1     5        2   \n",
       "4  100263-2-0-137.wav  100263   68.5  72.500000         1     5        2   \n",
       "\n",
       "              class  \n",
       "0          dog_bark  \n",
       "1  children_playing  \n",
       "2  children_playing  \n",
       "3  children_playing  \n",
       "4  children_playing  "
      ]
     },
     "execution_count": 4,
     "metadata": {},
     "output_type": "execute_result"
    }
   ],
   "source": [
    "df = pd.read_csv(\"../UrbanSound8K/metadata/UrbanSound8K.csv\")\n",
    "df.head()"
   ]
  },
  {
   "cell_type": "markdown",
   "metadata": {},
   "source": [
    "distribuição das classes"
   ]
  },
  {
   "cell_type": "code",
   "execution_count": 5,
   "metadata": {},
   "outputs": [
    {
     "data": {
      "image/png": "[encoded data removed]",
      "text/plain": [
       "<Figure size 400x400 with 1 Axes>"
      ]
     },
     "metadata": {},
     "output_type": "display_data"
    }
   ],
   "source": [
    "df['class'].value_counts().plot(kind='pie', autopct='%1.0f%%', figsize=(4,4))\n",
    "plt.title('Class Distribution')\n",
    "plt.ylabel('')\n",
    "plt.show()"
   ]
  },
  {
   "cell_type": "markdown",
   "metadata": {},
   "source": [
    "feature extraction and pre-processing"
   ]
  },
  {
   "cell_type": "markdown",
   "metadata": {},
   "source": [
    "Padding of the Audio to a Fixed Length"
   ]
  },
  {
   "cell_type": "code",
   "execution_count": 6,
   "metadata": {},
   "outputs": [],
   "source": [
    "def padding(path, duration = 4, sr = 22050, files_limit = -1, verbose = False):\n",
    "    files = librosa.util.find_files(path)\n",
    "    data = []\n",
    "\n",
    "    for index, file_path in enumerate(files):\n",
    "        if files_limit != -1 and index >= files_limit:\n",
    "            break\n",
    "        if verbose:\n",
    "            print(f\"Processing audio {index + 1}/{len(files)}\")\n",
    "        try:\n",
    "            audio, _ = librosa.load(file_path, sr=sr, mono=True)\n",
    "\n",
    "            audio = np.pad(audio, (0, max(0, duration*sr - len(audio))), mode='constant')\n",
    "            audio = audio[:duration * sr]\n",
    "\n",
    "            file_name = os.path.basename(file_path)\n",
    "            data.append([file_name, audio])\n",
    "        \n",
    "        except Exception:\n",
    "            print(f\"Error in processig file {file_path}: {Exception}\")\n",
    "\n",
    "    return data"
   ]
  },
  {
   "cell_type": "markdown",
   "metadata": {},
   "source": [
    "feature extraction"
   ]
  },
  {
   "cell_type": "code",
   "execution_count": 7,
   "metadata": {},
   "outputs": [],
   "source": [
    "def feature_extraction(dataframe, audios, hop_length = 512, n_fft = 256):\n",
    "    log_spectograms = []\n",
    "    labels = []\n",
    "\n",
    "    for index in range(len(audios)):\n",
    "        try:\n",
    "            file_name =audios[index][0]\n",
    "            if file_name:\n",
    "                row = dataframe.loc[dataframe[\"slice_file_name\"] == file_name]\n",
    "\n",
    "                if not row.empty:\n",
    "                    label = row.iloc[0,6]\n",
    "                    spectogram = np.abs(librosa.core.stft(\n",
    "                        y = np.array(audios[index][1]),\n",
    "                        hop_length = hop_length,\n",
    "                        n_fft = n_fft\n",
    "                    ))\n",
    "                    log_spectogram = librosa.amplitude_to_db(spectogram)\n",
    "                    log_spectograms.append(log_spectogram)\n",
    "                    labels.append(label)\n",
    "        except Exception:\n",
    "            print(f\"Error in processig file {audios[index][0]}: {Exception}\")\n",
    "\n",
    "    log_spectograms = np.array(log_spectograms)\n",
    "    labels = np.array(labels)\n",
    "    return log_spectograms, labels"
   ]
  },
  {
   "cell_type": "markdown",
   "metadata": {},
   "source": [
    "data normalization and pre-processing"
   ]
  },
  {
   "cell_type": "code",
   "execution_count": 8,
   "metadata": {},
   "outputs": [],
   "source": [
    "fold_paths = [\"../UrbanSound8K/audio/fold1\",\n",
    "              \"../UrbanSound8K/audio/fold2\",\n",
    "              \"../UrbanSound8K/audio/fold3\",\n",
    "              \"../UrbanSound8K/audio/fold4\",\n",
    "              \"../UrbanSound8K/audio/fold5\",\n",
    "              \"../UrbanSound8K/audio/fold6\",\n",
    "              \"../UrbanSound8K/audio/fold7\",\n",
    "              \"../UrbanSound8K/audio/fold8\",\n",
    "              \"../UrbanSound8K/audio/fold9\",\n",
    "              \"../UrbanSound8K/audio/fold10\"]"
   ]
  },
  {
   "cell_type": "code",
   "execution_count": 9,
   "metadata": {},
   "outputs": [
    {
     "name": "stdout",
     "output_type": "stream",
     "text": [
      "Processing Fold Number 1\n",
      "Features Shape:  (873, 173, 129)\n",
      "Labels Shape:  (873, 10) \n",
      "\n",
      "Processing Fold Number 2\n",
      "Features Shape:  (888, 173, 129)\n",
      "Labels Shape:  (888, 10) \n",
      "\n",
      "Processing Fold Number 3\n",
      "Features Shape:  (925, 173, 129)\n",
      "Labels Shape:  (925, 10) \n",
      "\n",
      "Processing Fold Number 4\n",
      "Features Shape:  (990, 173, 129)\n",
      "Labels Shape:  (990, 10) \n",
      "\n",
      "Processing Fold Number 5\n",
      "Features Shape:  (936, 173, 129)\n",
      "Labels Shape:  (936, 10) \n",
      "\n",
      "Processing Fold Number 6\n",
      "Features Shape:  (823, 173, 129)\n",
      "Labels Shape:  (823, 10) \n",
      "\n",
      "Processing Fold Number 7\n",
      "Features Shape:  (838, 173, 129)\n",
      "Labels Shape:  (838, 10) \n",
      "\n",
      "Processing Fold Number 8\n",
      "Features Shape:  (806, 173, 129)\n",
      "Labels Shape:  (806, 10) \n",
      "\n",
      "Processing Fold Number 9\n",
      "Features Shape:  (816, 173, 129)\n",
      "Labels Shape:  (816, 10) \n",
      "\n",
      "Processing Fold Number 10\n",
      "Features Shape:  (837, 173, 129)\n",
      "Labels Shape:  (837, 10) \n",
      "\n"
     ]
    }
   ],
   "source": [
    "features = np.empty((10,), dtype=object)\n",
    "label = np.empty((10,), dtype=object)\n",
    "\n",
    "for i, fold in enumerate(fold_paths):\n",
    "    print(f\"Processing Fold Number {i+1}\")\n",
    "    audio_data = padding(fold)\n",
    "\n",
    "    log_spectograms, labels = feature_extraction(df, audio_data)\n",
    "    log_spectograms_normalized = (log_spectograms - np.mean(log_spectograms)) / np.std(log_spectograms)\n",
    "    log_spectograms_normalized = log_spectograms_normalized.transpose(0,2,1)\n",
    "    \n",
    "    encoded_labels = np.zeros((len(labels), 10))\n",
    "    encoded_labels[np.arange(len(labels)), labels] = 1\n",
    "    \n",
    "    features[i] = log_spectograms_normalized\n",
    "    label[i] = encoded_labels\n",
    "    print(\"Features Shape: \",features[i].shape)\n",
    "    print(\"Labels Shape: \",label[i].shape,\"\\n\")\n",
    "    \n",
    "    del log_spectograms\n",
    "    del log_spectograms_normalized\n",
    "    del encoded_labels\n",
    "    gc.collect() # libertar memoria\n"
   ]
  },
  {
   "cell_type": "markdown",
   "metadata": {},
   "source": [
    "### Model Architecture"
   ]
  },
  {
   "cell_type": "markdown",
   "metadata": {},
   "source": [
    "#### 1. Input Layer\n",
    "- Shape: (x, y) where:\n",
    "  - x is the number of timesteps (sequence length).\n",
    "  - y is the number of features per timestep (e.g., MFCC coefficients).\n",
    "- Purpose: The model expects a sequential input where each timestep represents a feature vector of the audio signal.\n",
    "#### 2. First Bidirectional LSTM Layer\n",
    "Description: A Bidirectional LSTM with 128 units.\n",
    "- Bidirectionality: Processes the sequence in both forward and backward directions to capture dependencies in the audio signal from past and future timesteps.\n",
    "- Activation: tanh for non-linearity.\n",
    "- Kernel Initialization: glorot_uniform for balanced weight initialization.\n",
    "- Output: Produces a sequence of 128 features for each timestep.\n",
    "- Dropout (0.3): <b>Randomly drops 30% of connections to prevent overfitting.</b>\n",
    "- Batch Normalization: <b>Normalizes the output of the LSTM layer, ensuring stability during training by keeping activations in a consistent range.</b>\n",
    "\n",
    "#### 3. Second Bidirectional LSTM Layer\n",
    "Description: Another Bidirectional LSTM with 128 units.\n",
    "- Purpose: Further refines temporal features extracted from the first LSTM layer, learning more complex patterns.\n",
    "- Output: Produces a sequence of 128 features for each timestep.\n",
    "- Dropout (0.3): <b>Again, drops 30% of connections for regularization.</b>\n",
    "- Batch Normalization: <b>Stabilizes activations and accelerates convergence.</b>\n",
    "\n",
    "#### 4. TimeDistributed Dense Layers\n",
    "Description: Fully connected layers applied independently to each timestep. These layers transform the feature representation at each timestep into higher-level abstractions.\n",
    "- First Dense Layer:\n",
    "  - Units: 128 neurons.\n",
    "  - Activation: ReLU for faster training and reduced vanishing gradient issues.\n",
    "  - Regularization: L2 regularization (0.01) to prevent overfitting.\n",
    "  - Dropout (0.2): Drops 20% of connections.\n",
    "- Second Dense Layer:\n",
    "  - Units: 64 neurons.\n",
    "  - Activation: ReLU.\n",
    "  - Regularization: L2 regularization (0.01).\n",
    "  - Dropout (0.2).\n",
    "  - Purpose: These layers learn high-level feature transformations for each timestep.\n",
    "\n",
    "#### 5. Flatten Layer\n",
    "Description: Flattens the outputs of the TimeDistributed Dense layers into a single vector.\n",
    "- Purpose: Converts the 2D sequence of features into a 1D vector suitable for final classification.\n",
    "\n",
    "#### 6. Output Layer\n",
    "Description: A fully connected Dense layer with 10 neurons.\n",
    "- Activation: Softmax, which outputs a probability distribution over the 10 sound classes.\n",
    "- Purpose: Final classification into one of the 10 categories."
   ]
  },
  {
   "cell_type": "code",
   "execution_count": 10,
   "metadata": {},
   "outputs": [],
   "source": [
    "def create_bidirectional_model(x, y):\n",
    "    input_shape = (x, y)  # Shape of X_train sample\n",
    "\n",
    "    model = Sequential()\n",
    "\n",
    "    # First LSTM layer\n",
    "    model.add(LSTM(128, return_sequences=True, activation='tanh', kernel_initializer='glorot_uniform', input_shape=input_shape))\n",
    "    # model.add(Dropout(0.4))\n",
    "    # model.add(BatchNormalization())\n",
    "\n",
    "    # Second LSTM layer\n",
    "    model.add(LSTM(64, return_sequences=True, activation='tanh'))\n",
    "    # model.add(Dropout(0.4))\n",
    "    # model.add(BatchNormalization())\n",
    "\n",
    "    # TimeDistributed Dense layers\n",
    "    model.add(TimeDistributed(Dense(64, activation='tanh', kernel_regularizer=regularizers.l2(0.01))))\n",
    "    model.add(Dropout(0.3))\n",
    "    model.add(TimeDistributed(Dense(32, activation='tanh', kernel_regularizer=regularizers.l2(0.01))))\n",
    "    model.add(Dropout(0.3))\n",
    "\n",
    "    # Flatten layer\n",
    "    model.add(Flatten())\n",
    "\n",
    "    # Fully connected output layer\n",
    "    model.add(Dense(10, activation='softmax'))\n",
    "\n",
    "    return model\n"
   ]
  },
  {
   "cell_type": "code",
   "execution_count": 11,
   "metadata": {},
   "outputs": [
    {
     "name": "stderr",
     "output_type": "stream",
     "text": [
      "c:\\Users\\joaob\\Documents\\GitHub\\Sound_Classification\\.venv\\Lib\\site-packages\\keras\\src\\layers\\rnn\\rnn.py:204: UserWarning: Do not pass an `input_shape`/`input_dim` argument to a layer. When using Sequential models, prefer using an `Input(shape)` object as the first layer in the model instead.\n",
      "  super().__init__(**kwargs)\n"
     ]
    },
    {
     "data": {
      "text/html": [
       "<pre style=\"white-space:pre;overflow-x:auto;line-height:normal;font-family:Menlo,'DejaVu Sans Mono',consolas,'Courier New',monospace\"><span style=\"font-weight: bold\">Model: \"sequential\"</span>\n",
       "</pre>\n"
      ],
      "text/plain": [
       "\u001b[1mModel: \"sequential\"\u001b[0m\n"
      ]
     },
     "metadata": {},
     "output_type": "display_data"
    },
    {
     "data": {
      "text/html": [
       "<pre style=\"white-space:pre;overflow-x:auto;line-height:normal;font-family:Menlo,'DejaVu Sans Mono',consolas,'Courier New',monospace\">┏━━━━━━━━━━━━━━━━━━━━━━━━━━━━━━━━━┳━━━━━━━━━━━━━━━━━━━━━━━━┳━━━━━━━━━━━━━━━┓\n",
       "┃<span style=\"font-weight: bold\"> Layer (type)                    </span>┃<span style=\"font-weight: bold\"> Output Shape           </span>┃<span style=\"font-weight: bold\">       Param # </span>┃\n",
       "┡━━━━━━━━━━━━━━━━━━━━━━━━━━━━━━━━━╇━━━━━━━━━━━━━━━━━━━━━━━━╇━━━━━━━━━━━━━━━┩\n",
       "│ lstm (<span style=\"color: #0087ff; text-decoration-color: #0087ff\">LSTM</span>)                     │ (<span style=\"color: #00d7ff; text-decoration-color: #00d7ff\">None</span>, <span style=\"color: #00af00; text-decoration-color: #00af00\">173</span>, <span style=\"color: #00af00; text-decoration-color: #00af00\">128</span>)       │       <span style=\"color: #00af00; text-decoration-color: #00af00\">132,096</span> │\n",
       "├─────────────────────────────────┼────────────────────────┼───────────────┤\n",
       "│ lstm_1 (<span style=\"color: #0087ff; text-decoration-color: #0087ff\">LSTM</span>)                   │ (<span style=\"color: #00d7ff; text-decoration-color: #00d7ff\">None</span>, <span style=\"color: #00af00; text-decoration-color: #00af00\">173</span>, <span style=\"color: #00af00; text-decoration-color: #00af00\">64</span>)        │        <span style=\"color: #00af00; text-decoration-color: #00af00\">49,408</span> │\n",
       "├─────────────────────────────────┼────────────────────────┼───────────────┤\n",
       "│ time_distributed                │ (<span style=\"color: #00d7ff; text-decoration-color: #00d7ff\">None</span>, <span style=\"color: #00af00; text-decoration-color: #00af00\">173</span>, <span style=\"color: #00af00; text-decoration-color: #00af00\">64</span>)        │         <span style=\"color: #00af00; text-decoration-color: #00af00\">4,160</span> │\n",
       "│ (<span style=\"color: #0087ff; text-decoration-color: #0087ff\">TimeDistributed</span>)               │                        │               │\n",
       "├─────────────────────────────────┼────────────────────────┼───────────────┤\n",
       "│ dropout (<span style=\"color: #0087ff; text-decoration-color: #0087ff\">Dropout</span>)               │ (<span style=\"color: #00d7ff; text-decoration-color: #00d7ff\">None</span>, <span style=\"color: #00af00; text-decoration-color: #00af00\">173</span>, <span style=\"color: #00af00; text-decoration-color: #00af00\">64</span>)        │             <span style=\"color: #00af00; text-decoration-color: #00af00\">0</span> │\n",
       "├─────────────────────────────────┼────────────────────────┼───────────────┤\n",
       "│ time_distributed_1              │ (<span style=\"color: #00d7ff; text-decoration-color: #00d7ff\">None</span>, <span style=\"color: #00af00; text-decoration-color: #00af00\">173</span>, <span style=\"color: #00af00; text-decoration-color: #00af00\">32</span>)        │         <span style=\"color: #00af00; text-decoration-color: #00af00\">2,080</span> │\n",
       "│ (<span style=\"color: #0087ff; text-decoration-color: #0087ff\">TimeDistributed</span>)               │                        │               │\n",
       "├─────────────────────────────────┼────────────────────────┼───────────────┤\n",
       "│ dropout_1 (<span style=\"color: #0087ff; text-decoration-color: #0087ff\">Dropout</span>)             │ (<span style=\"color: #00d7ff; text-decoration-color: #00d7ff\">None</span>, <span style=\"color: #00af00; text-decoration-color: #00af00\">173</span>, <span style=\"color: #00af00; text-decoration-color: #00af00\">32</span>)        │             <span style=\"color: #00af00; text-decoration-color: #00af00\">0</span> │\n",
       "├─────────────────────────────────┼────────────────────────┼───────────────┤\n",
       "│ flatten (<span style=\"color: #0087ff; text-decoration-color: #0087ff\">Flatten</span>)               │ (<span style=\"color: #00d7ff; text-decoration-color: #00d7ff\">None</span>, <span style=\"color: #00af00; text-decoration-color: #00af00\">5536</span>)           │             <span style=\"color: #00af00; text-decoration-color: #00af00\">0</span> │\n",
       "├─────────────────────────────────┼────────────────────────┼───────────────┤\n",
       "│ dense_2 (<span style=\"color: #0087ff; text-decoration-color: #0087ff\">Dense</span>)                 │ (<span style=\"color: #00d7ff; text-decoration-color: #00d7ff\">None</span>, <span style=\"color: #00af00; text-decoration-color: #00af00\">10</span>)             │        <span style=\"color: #00af00; text-decoration-color: #00af00\">55,370</span> │\n",
       "└─────────────────────────────────┴────────────────────────┴───────────────┘\n",
       "</pre>\n"
      ],
      "text/plain": [
       "┏━━━━━━━━━━━━━━━━━━━━━━━━━━━━━━━━━┳━━━━━━━━━━━━━━━━━━━━━━━━┳━━━━━━━━━━━━━━━┓\n",
       "┃\u001b[1m \u001b[0m\u001b[1mLayer (type)                   \u001b[0m\u001b[1m \u001b[0m┃\u001b[1m \u001b[0m\u001b[1mOutput Shape          \u001b[0m\u001b[1m \u001b[0m┃\u001b[1m \u001b[0m\u001b[1m      Param #\u001b[0m\u001b[1m \u001b[0m┃\n",
       "┡━━━━━━━━━━━━━━━━━━━━━━━━━━━━━━━━━╇━━━━━━━━━━━━━━━━━━━━━━━━╇━━━━━━━━━━━━━━━┩\n",
       "│ lstm (\u001b[38;5;33mLSTM\u001b[0m)                     │ (\u001b[38;5;45mNone\u001b[0m, \u001b[38;5;34m173\u001b[0m, \u001b[38;5;34m128\u001b[0m)       │       \u001b[38;5;34m132,096\u001b[0m │\n",
       "├─────────────────────────────────┼────────────────────────┼───────────────┤\n",
       "│ lstm_1 (\u001b[38;5;33mLSTM\u001b[0m)                   │ (\u001b[38;5;45mNone\u001b[0m, \u001b[38;5;34m173\u001b[0m, \u001b[38;5;34m64\u001b[0m)        │        \u001b[38;5;34m49,408\u001b[0m │\n",
       "├─────────────────────────────────┼────────────────────────┼───────────────┤\n",
       "│ time_distributed                │ (\u001b[38;5;45mNone\u001b[0m, \u001b[38;5;34m173\u001b[0m, \u001b[38;5;34m64\u001b[0m)        │         \u001b[38;5;34m4,160\u001b[0m │\n",
       "│ (\u001b[38;5;33mTimeDistributed\u001b[0m)               │                        │               │\n",
       "├─────────────────────────────────┼────────────────────────┼───────────────┤\n",
       "│ dropout (\u001b[38;5;33mDropout\u001b[0m)               │ (\u001b[38;5;45mNone\u001b[0m, \u001b[38;5;34m173\u001b[0m, \u001b[38;5;34m64\u001b[0m)        │             \u001b[38;5;34m0\u001b[0m │\n",
       "├─────────────────────────────────┼────────────────────────┼───────────────┤\n",
       "│ time_distributed_1              │ (\u001b[38;5;45mNone\u001b[0m, \u001b[38;5;34m173\u001b[0m, \u001b[38;5;34m32\u001b[0m)        │         \u001b[38;5;34m2,080\u001b[0m │\n",
       "│ (\u001b[38;5;33mTimeDistributed\u001b[0m)               │                        │               │\n",
       "├─────────────────────────────────┼────────────────────────┼───────────────┤\n",
       "│ dropout_1 (\u001b[38;5;33mDropout\u001b[0m)             │ (\u001b[38;5;45mNone\u001b[0m, \u001b[38;5;34m173\u001b[0m, \u001b[38;5;34m32\u001b[0m)        │             \u001b[38;5;34m0\u001b[0m │\n",
       "├─────────────────────────────────┼────────────────────────┼───────────────┤\n",
       "│ flatten (\u001b[38;5;33mFlatten\u001b[0m)               │ (\u001b[38;5;45mNone\u001b[0m, \u001b[38;5;34m5536\u001b[0m)           │             \u001b[38;5;34m0\u001b[0m │\n",
       "├─────────────────────────────────┼────────────────────────┼───────────────┤\n",
       "│ dense_2 (\u001b[38;5;33mDense\u001b[0m)                 │ (\u001b[38;5;45mNone\u001b[0m, \u001b[38;5;34m10\u001b[0m)             │        \u001b[38;5;34m55,370\u001b[0m │\n",
       "└─────────────────────────────────┴────────────────────────┴───────────────┘\n"
      ]
     },
     "metadata": {},
     "output_type": "display_data"
    },
    {
     "data": {
      "text/html": [
       "<pre style=\"white-space:pre;overflow-x:auto;line-height:normal;font-family:Menlo,'DejaVu Sans Mono',consolas,'Courier New',monospace\"><span style=\"font-weight: bold\"> Total params: </span><span style=\"color: #00af00; text-decoration-color: #00af00\">243,114</span> (949.66 KB)\n",
       "</pre>\n"
      ],
      "text/plain": [
       "\u001b[1m Total params: \u001b[0m\u001b[38;5;34m243,114\u001b[0m (949.66 KB)\n"
      ]
     },
     "metadata": {},
     "output_type": "display_data"
    },
    {
     "data": {
      "text/html": [
       "<pre style=\"white-space:pre;overflow-x:auto;line-height:normal;font-family:Menlo,'DejaVu Sans Mono',consolas,'Courier New',monospace\"><span style=\"font-weight: bold\"> Trainable params: </span><span style=\"color: #00af00; text-decoration-color: #00af00\">243,114</span> (949.66 KB)\n",
       "</pre>\n"
      ],
      "text/plain": [
       "\u001b[1m Trainable params: \u001b[0m\u001b[38;5;34m243,114\u001b[0m (949.66 KB)\n"
      ]
     },
     "metadata": {},
     "output_type": "display_data"
    },
    {
     "data": {
      "text/html": [
       "<pre style=\"white-space:pre;overflow-x:auto;line-height:normal;font-family:Menlo,'DejaVu Sans Mono',consolas,'Courier New',monospace\"><span style=\"font-weight: bold\"> Non-trainable params: </span><span style=\"color: #00af00; text-decoration-color: #00af00\">0</span> (0.00 B)\n",
       "</pre>\n"
      ],
      "text/plain": [
       "\u001b[1m Non-trainable params: \u001b[0m\u001b[38;5;34m0\u001b[0m (0.00 B)\n"
      ]
     },
     "metadata": {},
     "output_type": "display_data"
    }
   ],
   "source": [
    "model = create_bidirectional_model(173, 129)\n",
    "model.summary()"
   ]
  },
  {
   "cell_type": "markdown",
   "metadata": {},
   "source": [
    "training strategies"
   ]
  },
  {
   "cell_type": "markdown",
   "metadata": {},
   "source": [
    "### novo"
   ]
  },
  {
   "cell_type": "code",
   "execution_count": null,
   "metadata": {},
   "outputs": [
    {
     "name": "stdout",
     "output_type": "stream",
     "text": [
      "Fold 1:\n",
      "X_train Shape: (6919, 173, 129)\n",
      "y_train Shape: (6919, 10)\n",
      "X_test Shape: (888, 173, 129)\n",
      "y_test Shape: (888, 10)\n",
      "X_val Shape: (925, 173, 129)\n",
      "y_val Shape: (925, 10)\n",
      "Epoch 1/50\n",
      "\u001b[1m109/109\u001b[0m \u001b[32m━━━━━━━━━━━━━━━━━━━━\u001b[0m\u001b[37m\u001b[0m \u001b[1m0s\u001b[0m 313ms/step - accuracy: 0.1897 - loss: 3.4847"
     ]
    }
   ],
   "source": [
    "fold_metrics = []\n",
    "EPOCHS = 50\n",
    "fold = 0  # Current fold to be used as test set\n",
    "\n",
    "print(f\"Fold {fold+1}:\")\n",
    "\n",
    "# Initialize lists for train/test sets\n",
    "X_train, y_train = [], []\n",
    "X_test, y_test = None, None\n",
    "\n",
    "# Splitting the data into Train, Test, and Validation sets\n",
    "for i in range(10):\n",
    "    if i == 1:\n",
    "        # Set test data\n",
    "        X_test = features[i]\n",
    "        y_test = label[i]\n",
    "    elif i == 2:\n",
    "        # validation set\n",
    "        X_val = features[i]\n",
    "        y_val = label[i]\n",
    "        \n",
    "    else:\n",
    "        # Append data for training\n",
    "        if len(X_train) == 0:  # Initialize for the first fold\n",
    "            X_train = features[i]\n",
    "            y_train = label[i]\n",
    "        else:\n",
    "            X_train = np.concatenate((X_train, features[i]), axis=0)\n",
    "            y_train = np.concatenate((y_train, label[i]), axis=0)\n",
    "\n",
    "# Split test set into test and validation sets\n",
    "#X_test, X_val, y_test, y_val = train_test_split(X_test, y_test, test_size=0.5, random_state=123)\n",
    "\n",
    "# Convert data to numpy arrays if not already\n",
    "X_train = np.array(X_train)\n",
    "y_train = np.array(y_train)\n",
    "X_test = np.array(X_test)\n",
    "y_test = np.array(y_test)\n",
    "X_val = np.array(X_val)\n",
    "y_val = np.array(y_val)\n",
    "\n",
    "# Print set shapes\n",
    "print(f\"X_train Shape: {X_train.shape}\")\n",
    "print(f\"y_train Shape: {y_train.shape}\")\n",
    "print(f\"X_test Shape: {X_test.shape}\")\n",
    "print(f\"y_test Shape: {y_test.shape}\")\n",
    "print(f\"X_val Shape: {X_val.shape}\")\n",
    "print(f\"y_val Shape: {y_val.shape}\")\n",
    "\n",
    "# Compile model\n",
    "optimizer = keras.optimizers.Adam(learning_rate=0.001)\n",
    "model.compile(\n",
    "    optimizer=optimizer, \n",
    "    loss='categorical_crossentropy', \n",
    "    metrics=['accuracy']\n",
    ")\n",
    "\n",
    "# Train model\n",
    "LSTM = model.fit(\n",
    "    X_train, y_train, \n",
    "    epochs=EPOCHS,\n",
    "    batch_size=64, \n",
    "    shuffle=False, \n",
    "    validation_data=(X_val, y_val)\n",
    ")\n",
    "\n",
    "# Predict unseen data\n",
    "y_pred = model.predict(X_test)\n",
    "\n",
    "# Evaluate the model\n",
    "y_pred_reshape = np.argmax(y_pred, axis=1)\n",
    "y_test_reshape = np.argmax(y_test, axis=1)\n",
    "TestLoss, Testacc = model.evaluate(X_test, y_test)\n",
    "\n",
    "# Save fold results\n",
    "m_metrics = {\n",
    "    'loss': TestLoss, \n",
    "    'accuracy': Testacc, \n",
    "    'confusion_matrix': confusion_matrix(y_test_reshape, y_pred_reshape), \n",
    "    'history': model, \n",
    "    'history_dict': LSTM.history\n",
    "}\n",
    "\n",
    "fold_metrics.append(m_metrics)\n",
    "\n",
    "#model.save(f\"kfold_metrics_LSTM/model_fold{fold+1}.keras\", save_format=\"keras\")\n",
    "#save_pkl(fold_metrics, f\"kfold_metrics_LSTM/metrics{fold+1}.pkl\")\n",
    "\n",
    "# Restart model to avoid memory leakage\n",
    "del model\n",
    "keras.backend.clear_session()\n",
    "\n",
    "print(\"Done.\")\n"
   ]
  },
  {
   "cell_type": "code",
   "execution_count": null,
   "metadata": {},
   "outputs": [
    {
     "data": {
      "text/plain": [
       "[{'loss': 2.7971928119659424,\n",
       "  'accuracy': 0.48394495248794556,\n",
       "  'confusion_matrix': array([[ 4,  0,  1, 13,  0,  3,  0,  4,  0, 20],\n",
       "         [ 0, 12,  0,  0,  0,  0,  4,  0,  4,  0],\n",
       "         [ 6,  0, 23,  0,  4,  5,  0,  0,  4,  9],\n",
       "         [ 0,  1,  6, 43,  0,  0,  0,  0,  1,  2],\n",
       "         [ 6,  0,  3,  2, 25,  1,  0,  7,  0,  4],\n",
       "         [ 5,  0,  7, 17,  3,  7,  0,  6,  0,  4],\n",
       "         [ 0,  0,  0,  1,  0,  0, 13,  0,  0,  0],\n",
       "         [27,  0,  0,  0,  3,  1,  0, 33,  0,  2],\n",
       "         [ 0,  0,  4,  0,  4,  1,  0,  0, 20,  6],\n",
       "         [ 7,  0, 10,  1,  4,  0,  0,  2,  0, 31]]),\n",
       "  'history': <Sequential name=sequential, built=True>,\n",
       "  'history_dict': {'accuracy': [0.22152945399284363,\n",
       "    0.2911311984062195,\n",
       "    0.318615585565567,\n",
       "    0.3594605028629303,\n",
       "    0.37536582350730896,\n",
       "    0.3684947192668915,\n",
       "    0.4135386049747467,\n",
       "    0.4321160316467285,\n",
       "    0.4755057990550995,\n",
       "    0.48072272539138794,\n",
       "    0.5066802501678467,\n",
       "    0.5121516585350037,\n",
       "    0.540526807308197,\n",
       "    0.5703015923500061,\n",
       "    0.5821351408958435,\n",
       "    0.6028757095336914,\n",
       "    0.595241129398346,\n",
       "    0.6080926060676575,\n",
       "    0.6407939791679382,\n",
       "    0.6279425024986267,\n",
       "    0.672222912311554,\n",
       "    0.6634432077407837,\n",
       "    0.6770581603050232,\n",
       "    0.694490373134613,\n",
       "    0.6999618411064148,\n",
       "    0.6895279288291931,\n",
       "    0.7135767936706543,\n",
       "    0.7327904105186462,\n",
       "    0.7503499388694763,\n",
       "    0.7507316470146179,\n",
       "    0.7714722156524658,\n",
       "    0.7607837915420532,\n",
       "    0.772235631942749,\n",
       "    0.7663825154304504,\n",
       "    0.7868685722351074,\n",
       "    0.7854688763618469,\n",
       "    0.8055732250213623,\n",
       "    0.7743988037109375,\n",
       "    0.7858506441116333,\n",
       "    0.7920855283737183,\n",
       "    0.8125715851783752,\n",
       "    0.830258309841156,\n",
       "    0.8381473422050476,\n",
       "    0.8381473422050476,\n",
       "    0.8413284420967102,\n",
       "    0.8096449971199036,\n",
       "    0.8380200862884521,\n",
       "    0.8525257706642151,\n",
       "    0.8591423630714417,\n",
       "    0.8652500510215759],\n",
       "   'loss': [3.2012977600097656,\n",
       "    2.6862781047821045,\n",
       "    2.483243465423584,\n",
       "    2.293333053588867,\n",
       "    2.141112804412842,\n",
       "    2.054872751235962,\n",
       "    1.910664439201355,\n",
       "    1.7933768033981323,\n",
       "    1.6917566061019897,\n",
       "    1.631449818611145,\n",
       "    1.5377118587493896,\n",
       "    1.515957236289978,\n",
       "    1.412965178489685,\n",
       "    1.3462270498275757,\n",
       "    1.3197649717330933,\n",
       "    1.2428314685821533,\n",
       "    1.2463752031326294,\n",
       "    1.1948463916778564,\n",
       "    1.119531512260437,\n",
       "    1.1675974130630493,\n",
       "    1.0325860977172852,\n",
       "    1.0400347709655762,\n",
       "    0.99704909324646,\n",
       "    0.9552669525146484,\n",
       "    0.918175220489502,\n",
       "    0.9526591897010803,\n",
       "    0.8838047981262207,\n",
       "    0.8334403038024902,\n",
       "    0.7765070199966431,\n",
       "    0.7969471216201782,\n",
       "    0.7229255437850952,\n",
       "    0.7675899863243103,\n",
       "    0.7186906933784485,\n",
       "    0.7131893634796143,\n",
       "    0.6744292378425598,\n",
       "    0.6887707114219666,\n",
       "    0.6153691411018372,\n",
       "    0.6983681917190552,\n",
       "    0.6839386224746704,\n",
       "    0.6670180559158325,\n",
       "    0.5956426858901978,\n",
       "    0.5319426655769348,\n",
       "    0.5084712505340576,\n",
       "    0.5330896973609924,\n",
       "    0.5081601738929749,\n",
       "    0.6199095845222473,\n",
       "    0.512145459651947,\n",
       "    0.4805566072463989,\n",
       "    0.45233455300331116,\n",
       "    0.45150095224380493],\n",
       "   'val_accuracy': [0.33180779218673706,\n",
       "    0.31121280789375305,\n",
       "    0.3546910881996155,\n",
       "    0.3478260934352875,\n",
       "    0.3913043439388275,\n",
       "    0.3844393491744995,\n",
       "    0.43935927748680115,\n",
       "    0.44393593072891235,\n",
       "    0.4942791759967804,\n",
       "    0.508009135723114,\n",
       "    0.5034325122833252,\n",
       "    0.535469114780426,\n",
       "    0.5469107627868652,\n",
       "    0.5194507837295532,\n",
       "    0.5240274667739868,\n",
       "    0.5102974772453308,\n",
       "    0.485125869512558,\n",
       "    0.5011441707611084,\n",
       "    0.5102974772453308,\n",
       "    0.5034325122833252,\n",
       "    0.5171624422073364,\n",
       "    0.508009135723114,\n",
       "    0.549199104309082,\n",
       "    0.5537757277488708,\n",
       "    0.5286040902137756,\n",
       "    0.5400457382202148,\n",
       "    0.5171624422073364,\n",
       "    0.4965675175189972,\n",
       "    0.5148741602897644,\n",
       "    0.535469114780426,\n",
       "    0.5675057172775269,\n",
       "    0.5606407523155212,\n",
       "    0.5171624422073364,\n",
       "    0.5308924317359924,\n",
       "    0.5171624422073364,\n",
       "    0.5194507837295532,\n",
       "    0.5331807732582092,\n",
       "    0.5171624422073364,\n",
       "    0.551487386226654,\n",
       "    0.5469107627868652,\n",
       "    0.5400457382202148,\n",
       "    0.5011441707611084,\n",
       "    0.5583524107933044,\n",
       "    0.508009135723114,\n",
       "    0.508009135723114,\n",
       "    0.5286040902137756,\n",
       "    0.5102974772453308,\n",
       "    0.5240274667739868,\n",
       "    0.5286040902137756,\n",
       "    0.5057207942008972],\n",
       "   'val_loss': [2.6411211490631104,\n",
       "    2.5127878189086914,\n",
       "    2.3514580726623535,\n",
       "    2.2216291427612305,\n",
       "    2.142061233520508,\n",
       "    1.984032154083252,\n",
       "    1.8914612531661987,\n",
       "    1.7828400135040283,\n",
       "    1.6904016733169556,\n",
       "    1.6629128456115723,\n",
       "    1.6598141193389893,\n",
       "    1.6547939777374268,\n",
       "    1.5677191019058228,\n",
       "    1.5965819358825684,\n",
       "    1.6747533082962036,\n",
       "    1.6432501077651978,\n",
       "    1.7148288488388062,\n",
       "    1.726726770401001,\n",
       "    1.9002174139022827,\n",
       "    1.963965654373169,\n",
       "    2.021759271621704,\n",
       "    1.9483634233474731,\n",
       "    1.8426765203475952,\n",
       "    1.930484414100647,\n",
       "    1.9662022590637207,\n",
       "    1.8363877534866333,\n",
       "    2.122267723083496,\n",
       "    2.1726412773132324,\n",
       "    1.9473985433578491,\n",
       "    1.99330735206604,\n",
       "    1.8388652801513672,\n",
       "    1.898522973060608,\n",
       "    2.020988941192627,\n",
       "    1.9608319997787476,\n",
       "    1.9721475839614868,\n",
       "    1.9018017053604126,\n",
       "    2.077049732208252,\n",
       "    1.973715901374817,\n",
       "    1.9821891784667969,\n",
       "    1.9071507453918457,\n",
       "    2.098106861114502,\n",
       "    2.019273042678833,\n",
       "    2.067364454269409,\n",
       "    2.3335227966308594,\n",
       "    2.224818229675293,\n",
       "    2.4185516834259033,\n",
       "    2.4510388374328613,\n",
       "    2.2732131481170654,\n",
       "    2.4767849445343018,\n",
       "    2.5672075748443604]}}]"
      ]
     },
     "execution_count": 19,
     "metadata": {},
     "output_type": "execute_result"
    }
   ],
   "source": [
    "fold_metrics"
   ]
  },
  {
   "cell_type": "code",
   "execution_count": null,
   "metadata": {},
   "outputs": [
    {
     "data": {
      "image/png": "[encoded data removed]",
      "text/plain": [
       "<Figure size 1000x500 with 2 Axes>"
      ]
     },
     "metadata": {},
     "output_type": "display_data"
    }
   ],
   "source": [
    "epochs = range(1, EPOCHS + 1)\n",
    "\n",
    "fig, ax = plt.subplots(len(fold_metrics), 2, figsize=(10, 5*len(fold_metrics)))\n",
    "\n",
    "\n",
    "for i in range(0,len(fold_metrics)):\n",
    "    history_dict = fold_metrics[i].get('history_dict')\n",
    "    loss_values=history_dict['loss']\n",
    "    acc_values=history_dict['accuracy']\n",
    "    val_loss_values = history_dict['val_loss']\n",
    "    val_acc_values = history_dict['val_accuracy']\n",
    "\n",
    "    ax[0].plot(epochs,loss_values,'co',label='Training Loss')\n",
    "    ax[0].plot(epochs,val_loss_values,'m', label='Validation Loss')\n",
    "    ax[0].set_title('Training and validation loss on fold '+str(i+1)+' of 10')\n",
    "    ax[0].set_xlabel('Epochs')\n",
    "    ax[0].set_ylabel('Loss')\n",
    "    ax[0].legend()\n",
    "\n",
    "    ax[1].plot(epochs,acc_values,'co', label='Training accuracy')\n",
    "    ax[1].plot(epochs,val_acc_values,'m', label='Validation accuracy')\n",
    "    ax[1].set_title('Training and validation accuracy on fold '+str(i+1)+' of 10')\n",
    "    ax[1].set_xlabel('Epochs')\n",
    "    ax[1].set_ylabel('Accuracy')\n",
    "    ax[1].legend()\n",
    "    plt.show()"
   ]
  },
  {
   "cell_type": "code",
   "execution_count": null,
   "metadata": {},
   "outputs": [
    {
     "name": "stdout",
     "output_type": "stream",
     "text": [
      "0.9785 +- 0.0000 average train accuracy across all folds.\n",
      "0.4966 +- 0.0000 average validation accuracy across all folds.\n",
      "0.4679 +- 0.0000 average test accuracy across all folds.\n"
     ]
    }
   ],
   "source": [
    "avg_train_acc = 0\n",
    "train_lst = []\n",
    "for i in fold_metrics:\n",
    "    avg_train_acc += max(i.get('history_dict').get('accuracy'))\n",
    "    train_lst.append(max(i.get('history_dict').get('accuracy')))\n",
    "    \n",
    "print(\"%.4f +- %.4f average train accuracy across all folds.\" % (avg_train_acc/len(fold_metrics) , np.std(train_lst)))\n",
    "\n",
    "avg_val_acc = 0\n",
    "val_lst = []\n",
    "for i in fold_metrics:\n",
    "    avg_val_acc += max(i.get('history_dict').get('val_accuracy'))\n",
    "    val_lst.append(max(i.get('history_dict').get('val_accuracy')))\n",
    "\n",
    "print(\"%.4f +- %.4f average validation accuracy across all folds.\" %(avg_val_acc / len(fold_metrics), np.std(val_lst)))\n",
    "\n",
    "avg_test_acc = 0\n",
    "test_lst = []\n",
    "for i in fold_metrics:\n",
    "    avg_test_acc += i.get('accuracy')\n",
    "    test_lst.append(i.get('accuracy'))\n",
    "\n",
    "print(\"%.4f +- %.4f average test accuracy across all folds.\" % (avg_test_acc / len(fold_metrics), np.std(test_lst)))"
   ]
  },
  {
   "cell_type": "code",
   "execution_count": null,
   "metadata": {},
   "outputs": [
    {
     "data": {
      "image/png": "[encoded data removed]",
      "text/plain": [
       "<Figure size 1500x300 with 11 Axes>"
      ]
     },
     "metadata": {},
     "output_type": "display_data"
    }
   ],
   "source": [
    "fig, ax =plt.subplots(5, 2, figsize=(15,3*len(fold_metrics)))\n",
    "\n",
    "for i in range(len(fold_metrics)):\n",
    "    cm = fold_metrics[i].get('confusion_matrix')\n",
    "    ax[i//2,i%2].set_title('Confusion matrix on fold '+str(i+1)+' of 10')\n",
    "    sns.heatmap(cm, annot=True, fmt=\".0f\", linewidths=.5, square = True, cmap = 'cool', ax=ax[i//2,i%2])\n",
    "\n",
    "plt.show()"
   ]
  },
  {
   "cell_type": "markdown",
   "metadata": {},
   "source": [
    "### antigo"
   ]
  },
  {
   "cell_type": "code",
   "execution_count": null,
   "metadata": {},
   "outputs": [
    {
     "name": "stdout",
     "output_type": "stream",
     "text": [
      "Fold 1:\n"
     ]
    }
   ],
   "source": [
    "from sklearn.model_selection import train_test_split\n",
    "from sklearn.metrics import confusion_matrix\n",
    "import keras\n",
    "fold_metrics = []\n",
    "EPOCHS = 50\n",
    "fold = 0\n",
    "\n",
    "f = \"fold\" + str(fold+1)\n",
    "print(\"Fold \"+str(fold+1)+\":\")\n",
    "\n",
    "X_train, y_train = [], []\n",
    "X_test, y_test = [], []\n",
    "    \n",
    "# Splitting the data into Test, Validation and Training sets\n",
    "for i in range(10):\n",
    "    if( i != fold):\n",
    "        X_train += features[i].tolist()\n",
    "        y_train.extend(label[i])\n",
    "        \n",
    "    else:\n",
    "        X_test = features[i]\n",
    "        y_test = labels[i]\n",
    "\n",
    "    \n",
    "X_train = np.array(X_train)\n",
    "y_train = np.array(y_train)\n",
    "X_test = np.array(X_test)\n",
    "y_test = np.array(y_test)\n",
    "        \n",
    "X_test, X_val, y_test, y_val = train_test_split(X_test, y_test, test_size = 0.5, random_state = 123)\n",
    "\n",
    "# Print sets shapes\n",
    "print(f\"X_train Shape: {X_train.shape}\")\n",
    "print(f\"X_test Shape: {X_test.shape}\")\n",
    "print(f\"X_val Shape: {X_val.shape}\")\n",
    "\n",
    "\n",
    "optimizer = keras.optimizers.Adam(learning_rate = 0.001)\n",
    "model.compile(\n",
    "    optimizer = optimizer, \n",
    "    loss = 'categorical_crossentropy', \n",
    "    metrics=['accuracy']\n",
    ")\n",
    "\n",
    "# Train model\n",
    "LSTM = model.fit(\n",
    "    X_train, y_train, \n",
    "    epochs = EPOCHS,\n",
    "    batch_size = 64, \n",
    "    shuffle = False, \n",
    "    validation_data=(X_val, y_val)\n",
    ")\n",
    "\n",
    "# Predict unseen data\n",
    "y_pred = model.predict(X_test)\n",
    "\n",
    "y_pred_reshape = np.argmax(y_pred, axis=1)\n",
    "y_test_reshape = np.argmax(y_test, axis=1)\n",
    "TestLoss, Testacc = model.evaluate(X_test, y_test)\n",
    "\n",
    "# Save fold results\n",
    "m_metrics = {\n",
    "    'loss': TestLoss, \n",
    "    'accuracy': Testacc, \n",
    "    'confusion_matrix': confusion_matrix(y_test_reshape, y_pred_reshape), \n",
    "    'history': model, 'history_dict': LSTM.history\n",
    "}\n",
    "\n",
    "fold_metrics.append(m_metrics)\n",
    "\n",
    "model.save(f\"kfold_metrics_LSTM/model_fold{fold+1}.keras\", save_format=\"keras\")\n",
    "save_pkl(fold_metrics, f\"kfold_metrics_LSTM/metrics{fold+1}.pkl\")\n",
    "\n",
    "# restart model to avoid memory leakage\n",
    "del model \n",
    "\n",
    "print(\"Done.\")"
   ]
  },
  {
   "cell_type": "markdown",
   "metadata": {},
   "source": [
    "performance evaluation"
   ]
  }
 ],
 "metadata": {
  "kernelspec": {
   "display_name": ".venv",
   "language": "python",
   "name": "python3"
  },
  "language_info": {
   "codemirror_mode": {
    "name": "ipython",
    "version": 3
   },
   "file_extension": ".py",
   "mimetype": "text/x-python",
   "name": "python",
   "nbconvert_exporter": "python",
   "pygments_lexer": "ipython3",
   "version": "3.12.6"
  }
 },
 "nbformat": 4,
 "nbformat_minor": 2
}
