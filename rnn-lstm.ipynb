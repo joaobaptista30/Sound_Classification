{
 "cells": [
  {
   "cell_type": "markdown",
   "metadata": {},
   "source": [
    "imports"
   ]
  },
  {
   "cell_type": "code",
   "execution_count": 1,
   "metadata": {},
   "outputs": [],
   "source": [
    "import pandas as pd\n",
    "import numpy as np\n",
    "import matplotlib.pyplot as plt\n",
    "import seaborn as sns\n",
    "import librosa\n",
    "import pickle\n",
    "import gc"
   ]
  },
  {
   "cell_type": "markdown",
   "metadata": {},
   "source": [
    "### Para guardar os dados em disco"
   ]
  },
  {
   "cell_type": "code",
   "execution_count": 2,
   "metadata": {},
   "outputs": [],
   "source": [
    "def save_pkl(data, path):\n",
    "    try:\n",
    "        with open(path, \"wb\") as saved_data:\n",
    "            pickle.dump(data, saved_data)\n",
    "    except:\n",
    "        print('Fail to save data')\n",
    "\n",
    "def load_pkl(path):\n",
    "    try:\n",
    "        with open(path, \"rb\") as loaded_data:\n",
    "            to_return = pickle.load(loaded_data)\n",
    "            return to_return\n",
    "    except:\n",
    "        print('Fail to load data')\n",
    "        return None"
   ]
  },
  {
   "cell_type": "markdown",
   "metadata": {},
   "source": [
    "meta data"
   ]
  },
  {
   "cell_type": "code",
   "execution_count": 3,
   "metadata": {},
   "outputs": [
    {
     "data": {
      "text/html": [
       "<div>\n",
       "<style scoped>\n",
       "    .dataframe tbody tr th:only-of-type {\n",
       "        vertical-align: middle;\n",
       "    }\n",
       "\n",
       "    .dataframe tbody tr th {\n",
       "        vertical-align: top;\n",
       "    }\n",
       "\n",
       "    .dataframe thead th {\n",
       "        text-align: right;\n",
       "    }\n",
       "</style>\n",
       "<table border=\"1\" class=\"dataframe\">\n",
       "  <thead>\n",
       "    <tr style=\"text-align: right;\">\n",
       "      <th></th>\n",
       "      <th>slice_file_name</th>\n",
       "      <th>fsID</th>\n",
       "      <th>start</th>\n",
       "      <th>end</th>\n",
       "      <th>salience</th>\n",
       "      <th>fold</th>\n",
       "      <th>classID</th>\n",
       "      <th>class</th>\n",
       "    </tr>\n",
       "  </thead>\n",
       "  <tbody>\n",
       "    <tr>\n",
       "      <th>0</th>\n",
       "      <td>100032-3-0-0.wav</td>\n",
       "      <td>100032</td>\n",
       "      <td>0.0</td>\n",
       "      <td>0.317551</td>\n",
       "      <td>1</td>\n",
       "      <td>5</td>\n",
       "      <td>3</td>\n",
       "      <td>dog_bark</td>\n",
       "    </tr>\n",
       "    <tr>\n",
       "      <th>1</th>\n",
       "      <td>100263-2-0-117.wav</td>\n",
       "      <td>100263</td>\n",
       "      <td>58.5</td>\n",
       "      <td>62.500000</td>\n",
       "      <td>1</td>\n",
       "      <td>5</td>\n",
       "      <td>2</td>\n",
       "      <td>children_playing</td>\n",
       "    </tr>\n",
       "    <tr>\n",
       "      <th>2</th>\n",
       "      <td>100263-2-0-121.wav</td>\n",
       "      <td>100263</td>\n",
       "      <td>60.5</td>\n",
       "      <td>64.500000</td>\n",
       "      <td>1</td>\n",
       "      <td>5</td>\n",
       "      <td>2</td>\n",
       "      <td>children_playing</td>\n",
       "    </tr>\n",
       "    <tr>\n",
       "      <th>3</th>\n",
       "      <td>100263-2-0-126.wav</td>\n",
       "      <td>100263</td>\n",
       "      <td>63.0</td>\n",
       "      <td>67.000000</td>\n",
       "      <td>1</td>\n",
       "      <td>5</td>\n",
       "      <td>2</td>\n",
       "      <td>children_playing</td>\n",
       "    </tr>\n",
       "    <tr>\n",
       "      <th>4</th>\n",
       "      <td>100263-2-0-137.wav</td>\n",
       "      <td>100263</td>\n",
       "      <td>68.5</td>\n",
       "      <td>72.500000</td>\n",
       "      <td>1</td>\n",
       "      <td>5</td>\n",
       "      <td>2</td>\n",
       "      <td>children_playing</td>\n",
       "    </tr>\n",
       "  </tbody>\n",
       "</table>\n",
       "</div>"
      ],
      "text/plain": [
       "      slice_file_name    fsID  start        end  salience  fold  classID  \\\n",
       "0    100032-3-0-0.wav  100032    0.0   0.317551         1     5        3   \n",
       "1  100263-2-0-117.wav  100263   58.5  62.500000         1     5        2   \n",
       "2  100263-2-0-121.wav  100263   60.5  64.500000         1     5        2   \n",
       "3  100263-2-0-126.wav  100263   63.0  67.000000         1     5        2   \n",
       "4  100263-2-0-137.wav  100263   68.5  72.500000         1     5        2   \n",
       "\n",
       "              class  \n",
       "0          dog_bark  \n",
       "1  children_playing  \n",
       "2  children_playing  \n",
       "3  children_playing  \n",
       "4  children_playing  "
      ]
     },
     "execution_count": 3,
     "metadata": {},
     "output_type": "execute_result"
    }
   ],
   "source": [
    "df = pd.read_csv(\"../UrbanSound8K/metadata/UrbanSound8K.csv\")\n",
    "df.head()"
   ]
  },
  {
   "cell_type": "markdown",
   "metadata": {},
   "source": [
    "distribuição das classes"
   ]
  },
  {
   "cell_type": "code",
   "execution_count": 4,
   "metadata": {},
   "outputs": [
    {
     "data": {
      "image/png": "[encoded data removed]",
      "text/plain": [
       "<Figure size 400x400 with 1 Axes>"
      ]
     },
     "metadata": {},
     "output_type": "display_data"
    }
   ],
   "source": [
    "df['class'].value_counts().plot(kind='pie', autopct='%1.0f%%', figsize=(4,4))\n",
    "plt.title('Class Distribution')\n",
    "plt.ylabel('')\n",
    "plt.show()"
   ]
  },
  {
   "cell_type": "markdown",
   "metadata": {},
   "source": [
    "feature extraction and pre-processing"
   ]
  },
  {
   "cell_type": "markdown",
   "metadata": {},
   "source": [
    "Padding of the Audio to a Fixed Length"
   ]
  },
  {
   "cell_type": "code",
   "execution_count": 5,
   "metadata": {},
   "outputs": [],
   "source": [
    "import os\n",
    "\n",
    "def padding(path, duration = 4, sr = 22050, files_limit = -1, verbose = False):\n",
    "    files = librosa.util.find_files(path)\n",
    "    data = []\n",
    "\n",
    "    for index, file_path in enumerate(files):\n",
    "        if files_limit != -1 and index >= files_limit:\n",
    "            break\n",
    "        if verbose:\n",
    "            print(f\"Processing audio {index + 1}/{len(files)}\")\n",
    "        try:\n",
    "            audio, _ = librosa.load(file_path, sr=sr, mono=True)\n",
    "\n",
    "            audio = np.pad(audio, (0, max(0, duration*sr - len(audio))), mode='constant')\n",
    "            audio = audio[:duration * sr]\n",
    "\n",
    "            file_name = os.path.basename(file_path)\n",
    "            data.append([file_name, audio])\n",
    "        \n",
    "        except Exception:\n",
    "            print(f\"Error in processig file {file_path}: {Exception}\")\n",
    "\n",
    "    return data"
   ]
  },
  {
   "cell_type": "markdown",
   "metadata": {},
   "source": [
    "feature extraction"
   ]
  },
  {
   "cell_type": "code",
   "execution_count": 6,
   "metadata": {},
   "outputs": [],
   "source": [
    "def feature_extraction(dataframe, audios, hop_length = 512, n_fft = 512):\n",
    "    log_spectograms = []\n",
    "    labels = []\n",
    "\n",
    "    for index in range(len(audios)):\n",
    "        try:\n",
    "            file_name =audios[index][0]\n",
    "            if file_name:\n",
    "                row = dataframe.loc[dataframe[\"slice_file_name\"] == file_name]\n",
    "\n",
    "                if not row.empty:\n",
    "                    label = row.iloc[0,6]\n",
    "                    spectogram = np.abs(librosa.core.stft(\n",
    "                        y = np.array(audios[index][1]),\n",
    "                        hop_length = hop_length,\n",
    "                        n_fft = n_fft\n",
    "                    ))\n",
    "                    log_spectogram = librosa.amplitude_to_db(spectogram)\n",
    "                    log_spectograms.append(log_spectogram)\n",
    "                    labels.append(label)\n",
    "        except Exception:\n",
    "            print(f\"Error in processig file {audios[index][0]}: {Exception}\")\n",
    "\n",
    "    log_spectograms = np.array(log_spectograms)\n",
    "    labels = np.array(labels)\n",
    "    return log_spectograms, labels"
   ]
  },
  {
   "cell_type": "markdown",
   "metadata": {},
   "source": [
    "data normalization and pre-processing"
   ]
  },
  {
   "cell_type": "code",
   "execution_count": 7,
   "metadata": {},
   "outputs": [],
   "source": [
    "fold_paths = [\"../UrbanSound8K/audio/fold1\",\n",
    "              \"../UrbanSound8K/audio/fold2\",\n",
    "              \"../UrbanSound8K/audio/fold3\",\n",
    "              \"../UrbanSound8K/audio/fold4\",\n",
    "              \"../UrbanSound8K/audio/fold5\",\n",
    "              \"../UrbanSound8K/audio/fold6\",\n",
    "              \"../UrbanSound8K/audio/fold7\",\n",
    "              \"../UrbanSound8K/audio/fold8\",\n",
    "              \"../UrbanSound8K/audio/fold9\",\n",
    "              \"../UrbanSound8K/audio/fold10\"]"
   ]
  },
  {
   "cell_type": "code",
   "execution_count": 8,
   "metadata": {},
   "outputs": [
    {
     "name": "stdout",
     "output_type": "stream",
     "text": [
      "Processing Fold Number 1\n",
      "Features Shape:  (873, 173, 257)\n",
      "Labels Shape:  (873, 10) \n",
      "\n",
      "Processing Fold Number 2\n",
      "Features Shape:  (888, 173, 257)\n",
      "Labels Shape:  (888, 10) \n",
      "\n",
      "Processing Fold Number 3\n",
      "Features Shape:  (925, 173, 257)\n",
      "Labels Shape:  (925, 10) \n",
      "\n",
      "Processing Fold Number 4\n",
      "Features Shape:  (990, 173, 257)\n",
      "Labels Shape:  (990, 10) \n",
      "\n",
      "Processing Fold Number 5\n",
      "Features Shape:  (936, 173, 257)\n",
      "Labels Shape:  (936, 10) \n",
      "\n",
      "Processing Fold Number 6\n",
      "Features Shape:  (823, 173, 257)\n",
      "Labels Shape:  (823, 10) \n",
      "\n",
      "Processing Fold Number 7\n",
      "Features Shape:  (838, 173, 257)\n",
      "Labels Shape:  (838, 10) \n",
      "\n",
      "Processing Fold Number 8\n",
      "Features Shape:  (806, 173, 257)\n",
      "Labels Shape:  (806, 10) \n",
      "\n",
      "Processing Fold Number 9\n",
      "Features Shape:  (816, 173, 257)\n",
      "Labels Shape:  (816, 10) \n",
      "\n",
      "Processing Fold Number 10\n",
      "Features Shape:  (837, 173, 257)\n",
      "Labels Shape:  (837, 10) \n",
      "\n"
     ]
    }
   ],
   "source": [
    "features = np.empty((10,), dtype=object)\n",
    "label = np.empty((10,), dtype=object)\n",
    "\n",
    "for i, fold in enumerate(fold_paths):\n",
    "    print(f\"Processing Fold Number {i+1}\")\n",
    "    audio_data = padding(fold)\n",
    "\n",
    "    log_spectograms, labels = feature_extraction(df, audio_data)\n",
    "    log_spectograms_normalized = (log_spectograms - np.mean(log_spectograms)) / np.std(log_spectograms)\n",
    "    log_spectograms_normalized = log_spectograms_normalized.transpose(0,2,1)\n",
    "    \n",
    "    encoded_labels = np.zeros((len(labels), 10))\n",
    "    encoded_labels[np.arange(len(labels)), labels] = 1\n",
    "    \n",
    "    features[i] = log_spectograms_normalized\n",
    "    label[i] = encoded_labels\n",
    "    print(\"Features Shape: \",features[i].shape)\n",
    "    print(\"Labels Shape: \",label[i].shape,\"\\n\")\n",
    "    \n",
    "    del log_spectograms\n",
    "    del log_spectograms_normalized\n",
    "    del encoded_labels\n",
    "    gc.collect() # libertar memoria\n"
   ]
  },
  {
   "cell_type": "markdown",
   "metadata": {},
   "source": [
    "### Model Architecture"
   ]
  },
  {
   "cell_type": "markdown",
   "metadata": {},
   "source": [
    "#### 1. Input Layer\n",
    "- Shape: (x, y) where:\n",
    "  - x is the number of timesteps (sequence length).\n",
    "  - y is the number of features per timestep (e.g., MFCC coefficients).\n",
    "- Purpose: The model expects a sequential input where each timestep represents a feature vector of the audio signal.\n",
    "#### 2. First Bidirectional LSTM Layer\n",
    "Description: A Bidirectional LSTM with 128 units.\n",
    "- Bidirectionality: Processes the sequence in both forward and backward directions to capture dependencies in the audio signal from past and future timesteps.\n",
    "- Activation: tanh for non-linearity.\n",
    "- Kernel Initialization: glorot_uniform for balanced weight initialization.\n",
    "- Output: Produces a sequence of 128 features for each timestep.\n",
    "- Dropout (0.3): <b>Randomly drops 30% of connections to prevent overfitting.</b>\n",
    "- Batch Normalization: <b>Normalizes the output of the LSTM layer, ensuring stability during training by keeping activations in a consistent range.</b>\n",
    "\n",
    "#### 3. Second Bidirectional LSTM Layer\n",
    "Description: Another Bidirectional LSTM with 128 units.\n",
    "- Purpose: Further refines temporal features extracted from the first LSTM layer, learning more complex patterns.\n",
    "- Output: Produces a sequence of 128 features for each timestep.\n",
    "- Dropout (0.3): <b>Again, drops 30% of connections for regularization.</b>\n",
    "- Batch Normalization: <b>Stabilizes activations and accelerates convergence.</b>\n",
    "\n",
    "#### 4. TimeDistributed Dense Layers\n",
    "Description: Fully connected layers applied independently to each timestep. These layers transform the feature representation at each timestep into higher-level abstractions.\n",
    "- First Dense Layer:\n",
    "  - Units: 128 neurons.\n",
    "  - Activation: ReLU for faster training and reduced vanishing gradient issues.\n",
    "  - Regularization: L2 regularization (0.01) to prevent overfitting.\n",
    "  - Dropout (0.2): Drops 20% of connections.\n",
    "- Second Dense Layer:\n",
    "  - Units: 64 neurons.\n",
    "  - Activation: ReLU.\n",
    "  - Regularization: L2 regularization (0.01).\n",
    "  - Dropout (0.2).\n",
    "  - Purpose: These layers learn high-level feature transformations for each timestep.\n",
    "\n",
    "#### 5. Flatten Layer\n",
    "Description: Flattens the outputs of the TimeDistributed Dense layers into a single vector.\n",
    "- Purpose: Converts the 2D sequence of features into a 1D vector suitable for final classification.\n",
    "\n",
    "#### 6. Output Layer\n",
    "Description: A fully connected Dense layer with 10 neurons.\n",
    "- Activation: Softmax, which outputs a probability distribution over the 10 sound classes.\n",
    "- Purpose: Final classification into one of the 10 categories."
   ]
  },
  {
   "cell_type": "code",
   "execution_count": 9,
   "metadata": {},
   "outputs": [],
   "source": [
    "from tensorflow.keras import Sequential, regularizers, layers\n",
    "from tensorflow.keras.layers import LSTM, Dense, Dropout, Bidirectional, TimeDistributed, Flatten, BatchNormalization\n",
    "\n",
    "def create_bidirectional_model(x, y):\n",
    "    input_shape = (x, y)  # Shape of X_train sample\n",
    "\n",
    "    model = Sequential()\n",
    "\n",
    "    # First Bidirectional LSTM layer\n",
    "    model.add(Bidirectional(LSTM(128, return_sequences=True, activation='tanh', kernel_initializer='glorot_uniform'), input_shape=input_shape))\n",
    "    model.add(Dropout(0.3))\n",
    "    model.add(BatchNormalization())\n",
    "\n",
    "    # Second Bidirectional LSTM layer\n",
    "    model.add(Bidirectional(LSTM(128, return_sequences=True, activation='tanh')))\n",
    "    model.add(Dropout(0.3))\n",
    "    model.add(BatchNormalization())\n",
    "\n",
    "    # TimeDistributed Dense layers\n",
    "    model.add(TimeDistributed(Dense(128, activation='relu', kernel_regularizer=regularizers.l2(0.01))))\n",
    "    model.add(Dropout(0.2))\n",
    "    model.add(TimeDistributed(Dense(64, activation='relu', kernel_regularizer=regularizers.l2(0.01))))\n",
    "    model.add(Dropout(0.2))\n",
    "\n",
    "    # Flatten layer\n",
    "    model.add(Flatten())\n",
    "\n",
    "    # Fully connected output layer\n",
    "    model.add(Dense(10, activation='softmax'))\n",
    "\n",
    "    return model\n"
   ]
  },
  {
   "cell_type": "code",
   "execution_count": 10,
   "metadata": {},
   "outputs": [
    {
     "name": "stderr",
     "output_type": "stream",
     "text": [
      "c:\\Users\\joaob\\Documents\\GitHub\\Sound_Classification\\.venv\\Lib\\site-packages\\keras\\src\\layers\\rnn\\bidirectional.py:107: UserWarning: Do not pass an `input_shape`/`input_dim` argument to a layer. When using Sequential models, prefer using an `Input(shape)` object as the first layer in the model instead.\n",
      "  super().__init__(**kwargs)\n"
     ]
    },
    {
     "data": {
      "text/html": [
       "<pre style=\"white-space:pre;overflow-x:auto;line-height:normal;font-family:Menlo,'DejaVu Sans Mono',consolas,'Courier New',monospace\"><span style=\"font-weight: bold\">Model: \"sequential\"</span>\n",
       "</pre>\n"
      ],
      "text/plain": [
       "\u001b[1mModel: \"sequential\"\u001b[0m\n"
      ]
     },
     "metadata": {},
     "output_type": "display_data"
    },
    {
     "data": {
      "text/html": [
       "<pre style=\"white-space:pre;overflow-x:auto;line-height:normal;font-family:Menlo,'DejaVu Sans Mono',consolas,'Courier New',monospace\">┏━━━━━━━━━━━━━━━━━━━━━━━━━━━━━━━━━┳━━━━━━━━━━━━━━━━━━━━━━━━┳━━━━━━━━━━━━━━━┓\n",
       "┃<span style=\"font-weight: bold\"> Layer (type)                    </span>┃<span style=\"font-weight: bold\"> Output Shape           </span>┃<span style=\"font-weight: bold\">       Param # </span>┃\n",
       "┡━━━━━━━━━━━━━━━━━━━━━━━━━━━━━━━━━╇━━━━━━━━━━━━━━━━━━━━━━━━╇━━━━━━━━━━━━━━━┩\n",
       "│ bidirectional (<span style=\"color: #0087ff; text-decoration-color: #0087ff\">Bidirectional</span>)   │ (<span style=\"color: #00d7ff; text-decoration-color: #00d7ff\">None</span>, <span style=\"color: #00af00; text-decoration-color: #00af00\">173</span>, <span style=\"color: #00af00; text-decoration-color: #00af00\">256</span>)       │       <span style=\"color: #00af00; text-decoration-color: #00af00\">395,264</span> │\n",
       "├─────────────────────────────────┼────────────────────────┼───────────────┤\n",
       "│ dropout (<span style=\"color: #0087ff; text-decoration-color: #0087ff\">Dropout</span>)               │ (<span style=\"color: #00d7ff; text-decoration-color: #00d7ff\">None</span>, <span style=\"color: #00af00; text-decoration-color: #00af00\">173</span>, <span style=\"color: #00af00; text-decoration-color: #00af00\">256</span>)       │             <span style=\"color: #00af00; text-decoration-color: #00af00\">0</span> │\n",
       "├─────────────────────────────────┼────────────────────────┼───────────────┤\n",
       "│ batch_normalization             │ (<span style=\"color: #00d7ff; text-decoration-color: #00d7ff\">None</span>, <span style=\"color: #00af00; text-decoration-color: #00af00\">173</span>, <span style=\"color: #00af00; text-decoration-color: #00af00\">256</span>)       │         <span style=\"color: #00af00; text-decoration-color: #00af00\">1,024</span> │\n",
       "│ (<span style=\"color: #0087ff; text-decoration-color: #0087ff\">BatchNormalization</span>)            │                        │               │\n",
       "├─────────────────────────────────┼────────────────────────┼───────────────┤\n",
       "│ bidirectional_1 (<span style=\"color: #0087ff; text-decoration-color: #0087ff\">Bidirectional</span>) │ (<span style=\"color: #00d7ff; text-decoration-color: #00d7ff\">None</span>, <span style=\"color: #00af00; text-decoration-color: #00af00\">173</span>, <span style=\"color: #00af00; text-decoration-color: #00af00\">256</span>)       │       <span style=\"color: #00af00; text-decoration-color: #00af00\">394,240</span> │\n",
       "├─────────────────────────────────┼────────────────────────┼───────────────┤\n",
       "│ dropout_1 (<span style=\"color: #0087ff; text-decoration-color: #0087ff\">Dropout</span>)             │ (<span style=\"color: #00d7ff; text-decoration-color: #00d7ff\">None</span>, <span style=\"color: #00af00; text-decoration-color: #00af00\">173</span>, <span style=\"color: #00af00; text-decoration-color: #00af00\">256</span>)       │             <span style=\"color: #00af00; text-decoration-color: #00af00\">0</span> │\n",
       "├─────────────────────────────────┼────────────────────────┼───────────────┤\n",
       "│ batch_normalization_1           │ (<span style=\"color: #00d7ff; text-decoration-color: #00d7ff\">None</span>, <span style=\"color: #00af00; text-decoration-color: #00af00\">173</span>, <span style=\"color: #00af00; text-decoration-color: #00af00\">256</span>)       │         <span style=\"color: #00af00; text-decoration-color: #00af00\">1,024</span> │\n",
       "│ (<span style=\"color: #0087ff; text-decoration-color: #0087ff\">BatchNormalization</span>)            │                        │               │\n",
       "├─────────────────────────────────┼────────────────────────┼───────────────┤\n",
       "│ time_distributed                │ (<span style=\"color: #00d7ff; text-decoration-color: #00d7ff\">None</span>, <span style=\"color: #00af00; text-decoration-color: #00af00\">173</span>, <span style=\"color: #00af00; text-decoration-color: #00af00\">128</span>)       │        <span style=\"color: #00af00; text-decoration-color: #00af00\">32,896</span> │\n",
       "│ (<span style=\"color: #0087ff; text-decoration-color: #0087ff\">TimeDistributed</span>)               │                        │               │\n",
       "├─────────────────────────────────┼────────────────────────┼───────────────┤\n",
       "│ dropout_2 (<span style=\"color: #0087ff; text-decoration-color: #0087ff\">Dropout</span>)             │ (<span style=\"color: #00d7ff; text-decoration-color: #00d7ff\">None</span>, <span style=\"color: #00af00; text-decoration-color: #00af00\">173</span>, <span style=\"color: #00af00; text-decoration-color: #00af00\">128</span>)       │             <span style=\"color: #00af00; text-decoration-color: #00af00\">0</span> │\n",
       "├─────────────────────────────────┼────────────────────────┼───────────────┤\n",
       "│ time_distributed_1              │ (<span style=\"color: #00d7ff; text-decoration-color: #00d7ff\">None</span>, <span style=\"color: #00af00; text-decoration-color: #00af00\">173</span>, <span style=\"color: #00af00; text-decoration-color: #00af00\">64</span>)        │         <span style=\"color: #00af00; text-decoration-color: #00af00\">8,256</span> │\n",
       "│ (<span style=\"color: #0087ff; text-decoration-color: #0087ff\">TimeDistributed</span>)               │                        │               │\n",
       "├─────────────────────────────────┼────────────────────────┼───────────────┤\n",
       "│ dropout_3 (<span style=\"color: #0087ff; text-decoration-color: #0087ff\">Dropout</span>)             │ (<span style=\"color: #00d7ff; text-decoration-color: #00d7ff\">None</span>, <span style=\"color: #00af00; text-decoration-color: #00af00\">173</span>, <span style=\"color: #00af00; text-decoration-color: #00af00\">64</span>)        │             <span style=\"color: #00af00; text-decoration-color: #00af00\">0</span> │\n",
       "├─────────────────────────────────┼────────────────────────┼───────────────┤\n",
       "│ flatten (<span style=\"color: #0087ff; text-decoration-color: #0087ff\">Flatten</span>)               │ (<span style=\"color: #00d7ff; text-decoration-color: #00d7ff\">None</span>, <span style=\"color: #00af00; text-decoration-color: #00af00\">11072</span>)          │             <span style=\"color: #00af00; text-decoration-color: #00af00\">0</span> │\n",
       "├─────────────────────────────────┼────────────────────────┼───────────────┤\n",
       "│ dense_2 (<span style=\"color: #0087ff; text-decoration-color: #0087ff\">Dense</span>)                 │ (<span style=\"color: #00d7ff; text-decoration-color: #00d7ff\">None</span>, <span style=\"color: #00af00; text-decoration-color: #00af00\">10</span>)             │       <span style=\"color: #00af00; text-decoration-color: #00af00\">110,730</span> │\n",
       "└─────────────────────────────────┴────────────────────────┴───────────────┘\n",
       "</pre>\n"
      ],
      "text/plain": [
       "┏━━━━━━━━━━━━━━━━━━━━━━━━━━━━━━━━━┳━━━━━━━━━━━━━━━━━━━━━━━━┳━━━━━━━━━━━━━━━┓\n",
       "┃\u001b[1m \u001b[0m\u001b[1mLayer (type)                   \u001b[0m\u001b[1m \u001b[0m┃\u001b[1m \u001b[0m\u001b[1mOutput Shape          \u001b[0m\u001b[1m \u001b[0m┃\u001b[1m \u001b[0m\u001b[1m      Param #\u001b[0m\u001b[1m \u001b[0m┃\n",
       "┡━━━━━━━━━━━━━━━━━━━━━━━━━━━━━━━━━╇━━━━━━━━━━━━━━━━━━━━━━━━╇━━━━━━━━━━━━━━━┩\n",
       "│ bidirectional (\u001b[38;5;33mBidirectional\u001b[0m)   │ (\u001b[38;5;45mNone\u001b[0m, \u001b[38;5;34m173\u001b[0m, \u001b[38;5;34m256\u001b[0m)       │       \u001b[38;5;34m395,264\u001b[0m │\n",
       "├─────────────────────────────────┼────────────────────────┼───────────────┤\n",
       "│ dropout (\u001b[38;5;33mDropout\u001b[0m)               │ (\u001b[38;5;45mNone\u001b[0m, \u001b[38;5;34m173\u001b[0m, \u001b[38;5;34m256\u001b[0m)       │             \u001b[38;5;34m0\u001b[0m │\n",
       "├─────────────────────────────────┼────────────────────────┼───────────────┤\n",
       "│ batch_normalization             │ (\u001b[38;5;45mNone\u001b[0m, \u001b[38;5;34m173\u001b[0m, \u001b[38;5;34m256\u001b[0m)       │         \u001b[38;5;34m1,024\u001b[0m │\n",
       "│ (\u001b[38;5;33mBatchNormalization\u001b[0m)            │                        │               │\n",
       "├─────────────────────────────────┼────────────────────────┼───────────────┤\n",
       "│ bidirectional_1 (\u001b[38;5;33mBidirectional\u001b[0m) │ (\u001b[38;5;45mNone\u001b[0m, \u001b[38;5;34m173\u001b[0m, \u001b[38;5;34m256\u001b[0m)       │       \u001b[38;5;34m394,240\u001b[0m │\n",
       "├─────────────────────────────────┼────────────────────────┼───────────────┤\n",
       "│ dropout_1 (\u001b[38;5;33mDropout\u001b[0m)             │ (\u001b[38;5;45mNone\u001b[0m, \u001b[38;5;34m173\u001b[0m, \u001b[38;5;34m256\u001b[0m)       │             \u001b[38;5;34m0\u001b[0m │\n",
       "├─────────────────────────────────┼────────────────────────┼───────────────┤\n",
       "│ batch_normalization_1           │ (\u001b[38;5;45mNone\u001b[0m, \u001b[38;5;34m173\u001b[0m, \u001b[38;5;34m256\u001b[0m)       │         \u001b[38;5;34m1,024\u001b[0m │\n",
       "│ (\u001b[38;5;33mBatchNormalization\u001b[0m)            │                        │               │\n",
       "├─────────────────────────────────┼────────────────────────┼───────────────┤\n",
       "│ time_distributed                │ (\u001b[38;5;45mNone\u001b[0m, \u001b[38;5;34m173\u001b[0m, \u001b[38;5;34m128\u001b[0m)       │        \u001b[38;5;34m32,896\u001b[0m │\n",
       "│ (\u001b[38;5;33mTimeDistributed\u001b[0m)               │                        │               │\n",
       "├─────────────────────────────────┼────────────────────────┼───────────────┤\n",
       "│ dropout_2 (\u001b[38;5;33mDropout\u001b[0m)             │ (\u001b[38;5;45mNone\u001b[0m, \u001b[38;5;34m173\u001b[0m, \u001b[38;5;34m128\u001b[0m)       │             \u001b[38;5;34m0\u001b[0m │\n",
       "├─────────────────────────────────┼────────────────────────┼───────────────┤\n",
       "│ time_distributed_1              │ (\u001b[38;5;45mNone\u001b[0m, \u001b[38;5;34m173\u001b[0m, \u001b[38;5;34m64\u001b[0m)        │         \u001b[38;5;34m8,256\u001b[0m │\n",
       "│ (\u001b[38;5;33mTimeDistributed\u001b[0m)               │                        │               │\n",
       "├─────────────────────────────────┼────────────────────────┼───────────────┤\n",
       "│ dropout_3 (\u001b[38;5;33mDropout\u001b[0m)             │ (\u001b[38;5;45mNone\u001b[0m, \u001b[38;5;34m173\u001b[0m, \u001b[38;5;34m64\u001b[0m)        │             \u001b[38;5;34m0\u001b[0m │\n",
       "├─────────────────────────────────┼────────────────────────┼───────────────┤\n",
       "│ flatten (\u001b[38;5;33mFlatten\u001b[0m)               │ (\u001b[38;5;45mNone\u001b[0m, \u001b[38;5;34m11072\u001b[0m)          │             \u001b[38;5;34m0\u001b[0m │\n",
       "├─────────────────────────────────┼────────────────────────┼───────────────┤\n",
       "│ dense_2 (\u001b[38;5;33mDense\u001b[0m)                 │ (\u001b[38;5;45mNone\u001b[0m, \u001b[38;5;34m10\u001b[0m)             │       \u001b[38;5;34m110,730\u001b[0m │\n",
       "└─────────────────────────────────┴────────────────────────┴───────────────┘\n"
      ]
     },
     "metadata": {},
     "output_type": "display_data"
    },
    {
     "data": {
      "text/html": [
       "<pre style=\"white-space:pre;overflow-x:auto;line-height:normal;font-family:Menlo,'DejaVu Sans Mono',consolas,'Courier New',monospace\"><span style=\"font-weight: bold\"> Total params: </span><span style=\"color: #00af00; text-decoration-color: #00af00\">943,434</span> (3.60 MB)\n",
       "</pre>\n"
      ],
      "text/plain": [
       "\u001b[1m Total params: \u001b[0m\u001b[38;5;34m943,434\u001b[0m (3.60 MB)\n"
      ]
     },
     "metadata": {},
     "output_type": "display_data"
    },
    {
     "data": {
      "text/html": [
       "<pre style=\"white-space:pre;overflow-x:auto;line-height:normal;font-family:Menlo,'DejaVu Sans Mono',consolas,'Courier New',monospace\"><span style=\"font-weight: bold\"> Trainable params: </span><span style=\"color: #00af00; text-decoration-color: #00af00\">942,410</span> (3.60 MB)\n",
       "</pre>\n"
      ],
      "text/plain": [
       "\u001b[1m Trainable params: \u001b[0m\u001b[38;5;34m942,410\u001b[0m (3.60 MB)\n"
      ]
     },
     "metadata": {},
     "output_type": "display_data"
    },
    {
     "data": {
      "text/html": [
       "<pre style=\"white-space:pre;overflow-x:auto;line-height:normal;font-family:Menlo,'DejaVu Sans Mono',consolas,'Courier New',monospace\"><span style=\"font-weight: bold\"> Non-trainable params: </span><span style=\"color: #00af00; text-decoration-color: #00af00\">1,024</span> (4.00 KB)\n",
       "</pre>\n"
      ],
      "text/plain": [
       "\u001b[1m Non-trainable params: \u001b[0m\u001b[38;5;34m1,024\u001b[0m (4.00 KB)\n"
      ]
     },
     "metadata": {},
     "output_type": "display_data"
    }
   ],
   "source": [
    "#model = create_bidirectional_model(345, 513)\n",
    "model = create_bidirectional_model(173, 257)\n",
    "model.summary()"
   ]
  },
  {
   "cell_type": "markdown",
   "metadata": {},
   "source": [
    "training strategies"
   ]
  },
  {
   "cell_type": "markdown",
   "metadata": {},
   "source": [
    "### novo"
   ]
  },
  {
   "cell_type": "code",
   "execution_count": 13,
   "metadata": {},
   "outputs": [
    {
     "name": "stdout",
     "output_type": "stream",
     "text": [
      "Fold 1:\n",
      "X_train Shape: (7859, 173, 257)\n",
      "y_train Shape: (7859, 10)\n",
      "X_test Shape: (436, 173, 257)\n",
      "y_test Shape: (436, 10)\n",
      "X_val Shape: (437, 173, 257)\n",
      "y_val Shape: (437, 10)\n",
      "Epoch 1/50\n",
      "\u001b[1m123/123\u001b[0m \u001b[32m━━━━━━━━━━━━━━━━━━━━\u001b[0m\u001b[37m\u001b[0m \u001b[1m152s\u001b[0m 1s/step - accuracy: 0.1664 - loss: 5.7810 - val_accuracy: 0.3616 - val_loss: 3.8846\n",
      "Epoch 2/50\n",
      "\u001b[1m123/123\u001b[0m \u001b[32m━━━━━━━━━━━━━━━━━━━━\u001b[0m\u001b[37m\u001b[0m \u001b[1m138s\u001b[0m 1s/step - accuracy: 0.2609 - loss: 3.8188 - val_accuracy: 0.3112 - val_loss: 3.2518\n",
      "Epoch 3/50\n",
      "\u001b[1m123/123\u001b[0m \u001b[32m━━━━━━━━━━━━━━━━━━━━\u001b[0m\u001b[37m\u001b[0m \u001b[1m137s\u001b[0m 1s/step - accuracy: 0.2930 - loss: 3.2539 - val_accuracy: 0.3730 - val_loss: 2.7671\n",
      "Epoch 4/50\n",
      "\u001b[1m123/123\u001b[0m \u001b[32m━━━━━━━━━━━━━━━━━━━━\u001b[0m\u001b[37m\u001b[0m \u001b[1m135s\u001b[0m 1s/step - accuracy: 0.3201 - loss: 2.8213 - val_accuracy: 0.3776 - val_loss: 2.4447\n",
      "Epoch 5/50\n",
      "\u001b[1m123/123\u001b[0m \u001b[32m━━━━━━━━━━━━━━━━━━━━\u001b[0m\u001b[37m\u001b[0m \u001b[1m138s\u001b[0m 1s/step - accuracy: 0.3445 - loss: 2.4632 - val_accuracy: 0.3547 - val_loss: 2.5299\n",
      "Epoch 6/50\n",
      "\u001b[1m123/123\u001b[0m \u001b[32m━━━━━━━━━━━━━━━━━━━━\u001b[0m\u001b[37m\u001b[0m \u001b[1m137s\u001b[0m 1s/step - accuracy: 0.3781 - loss: 2.2382 - val_accuracy: 0.3822 - val_loss: 2.2040\n",
      "Epoch 7/50\n",
      "\u001b[1m123/123\u001b[0m \u001b[32m━━━━━━━━━━━━━━━━━━━━\u001b[0m\u001b[37m\u001b[0m \u001b[1m138s\u001b[0m 1s/step - accuracy: 0.3754 - loss: 2.0999 - val_accuracy: 0.3707 - val_loss: 2.0025\n",
      "Epoch 8/50\n",
      "\u001b[1m123/123\u001b[0m \u001b[32m━━━━━━━━━━━━━━━━━━━━\u001b[0m\u001b[37m\u001b[0m \u001b[1m137s\u001b[0m 1s/step - accuracy: 0.4107 - loss: 1.9733 - val_accuracy: 0.4165 - val_loss: 1.8845\n",
      "Epoch 9/50\n",
      "\u001b[1m123/123\u001b[0m \u001b[32m━━━━━━━━━━━━━━━━━━━━\u001b[0m\u001b[37m\u001b[0m \u001b[1m138s\u001b[0m 1s/step - accuracy: 0.4453 - loss: 1.7935 - val_accuracy: 0.4371 - val_loss: 1.8924\n",
      "Epoch 10/50\n",
      "\u001b[1m123/123\u001b[0m \u001b[32m━━━━━━━━━━━━━━━━━━━━\u001b[0m\u001b[37m\u001b[0m \u001b[1m137s\u001b[0m 1s/step - accuracy: 0.4732 - loss: 1.6680 - val_accuracy: 0.4233 - val_loss: 1.9824\n",
      "Epoch 11/50\n",
      "\u001b[1m123/123\u001b[0m \u001b[32m━━━━━━━━━━━━━━━━━━━━\u001b[0m\u001b[37m\u001b[0m \u001b[1m140s\u001b[0m 1s/step - accuracy: 0.5060 - loss: 1.6047 - val_accuracy: 0.4600 - val_loss: 1.7962\n",
      "Epoch 12/50\n",
      "\u001b[1m123/123\u001b[0m \u001b[32m━━━━━━━━━━━━━━━━━━━━\u001b[0m\u001b[37m\u001b[0m \u001b[1m137s\u001b[0m 1s/step - accuracy: 0.5327 - loss: 1.4753 - val_accuracy: 0.4462 - val_loss: 2.0875\n",
      "Epoch 13/50\n",
      "\u001b[1m123/123\u001b[0m \u001b[32m━━━━━━━━━━━━━━━━━━━━\u001b[0m\u001b[37m\u001b[0m \u001b[1m136s\u001b[0m 1s/step - accuracy: 0.5481 - loss: 1.4346 - val_accuracy: 0.4508 - val_loss: 1.9849\n",
      "Epoch 14/50\n",
      "\u001b[1m123/123\u001b[0m \u001b[32m━━━━━━━━━━━━━━━━━━━━\u001b[0m\u001b[37m\u001b[0m \u001b[1m136s\u001b[0m 1s/step - accuracy: 0.5930 - loss: 1.3143 - val_accuracy: 0.4325 - val_loss: 2.1141\n",
      "Epoch 15/50\n",
      "\u001b[1m123/123\u001b[0m \u001b[32m━━━━━━━━━━━━━━━━━━━━\u001b[0m\u001b[37m\u001b[0m \u001b[1m136s\u001b[0m 1s/step - accuracy: 0.5965 - loss: 1.3176 - val_accuracy: 0.4439 - val_loss: 1.8488\n",
      "Epoch 16/50\n",
      "\u001b[1m123/123\u001b[0m \u001b[32m━━━━━━━━━━━━━━━━━━━━\u001b[0m\u001b[37m\u001b[0m \u001b[1m136s\u001b[0m 1s/step - accuracy: 0.6227 - loss: 1.2523 - val_accuracy: 0.4485 - val_loss: 2.0016\n",
      "Epoch 17/50\n",
      "\u001b[1m123/123\u001b[0m \u001b[32m━━━━━━━━━━━━━━━━━━━━\u001b[0m\u001b[37m\u001b[0m \u001b[1m137s\u001b[0m 1s/step - accuracy: 0.6447 - loss: 1.1458 - val_accuracy: 0.4600 - val_loss: 1.8935\n",
      "Epoch 18/50\n",
      "\u001b[1m123/123\u001b[0m \u001b[32m━━━━━━━━━━━━━━━━━━━━\u001b[0m\u001b[37m\u001b[0m \u001b[1m136s\u001b[0m 1s/step - accuracy: 0.6920 - loss: 1.0447 - val_accuracy: 0.4394 - val_loss: 1.8745\n",
      "Epoch 19/50\n",
      "\u001b[1m123/123\u001b[0m \u001b[32m━━━━━━━━━━━━━━━━━━━━\u001b[0m\u001b[37m\u001b[0m \u001b[1m138s\u001b[0m 1s/step - accuracy: 0.7021 - loss: 1.0043 - val_accuracy: 0.4348 - val_loss: 1.9657\n",
      "Epoch 20/50\n",
      "\u001b[1m123/123\u001b[0m \u001b[32m━━━━━━━━━━━━━━━━━━━━\u001b[0m\u001b[37m\u001b[0m \u001b[1m138s\u001b[0m 1s/step - accuracy: 0.7273 - loss: 0.9554 - val_accuracy: 0.4279 - val_loss: 2.7773\n",
      "Epoch 21/50\n",
      "\u001b[1m123/123\u001b[0m \u001b[32m━━━━━━━━━━━━━━━━━━━━\u001b[0m\u001b[37m\u001b[0m \u001b[1m134s\u001b[0m 1s/step - accuracy: 0.7462 - loss: 0.8864 - val_accuracy: 0.4668 - val_loss: 1.9656\n",
      "Epoch 22/50\n",
      "\u001b[1m123/123\u001b[0m \u001b[32m━━━━━━━━━━━━━━━━━━━━\u001b[0m\u001b[37m\u001b[0m \u001b[1m133s\u001b[0m 1s/step - accuracy: 0.7542 - loss: 0.8880 - val_accuracy: 0.4851 - val_loss: 2.1146\n",
      "Epoch 23/50\n",
      "\u001b[1m123/123\u001b[0m \u001b[32m━━━━━━━━━━━━━━━━━━━━\u001b[0m\u001b[37m\u001b[0m \u001b[1m134s\u001b[0m 1s/step - accuracy: 0.8010 - loss: 0.7368 - val_accuracy: 0.4714 - val_loss: 1.9914\n",
      "Epoch 24/50\n",
      "\u001b[1m123/123\u001b[0m \u001b[32m━━━━━━━━━━━━━━━━━━━━\u001b[0m\u001b[37m\u001b[0m \u001b[1m134s\u001b[0m 1s/step - accuracy: 0.8076 - loss: 0.7039 - val_accuracy: 0.4805 - val_loss: 1.9708\n",
      "Epoch 25/50\n",
      "\u001b[1m123/123\u001b[0m \u001b[32m━━━━━━━━━━━━━━━━━━━━\u001b[0m\u001b[37m\u001b[0m \u001b[1m134s\u001b[0m 1s/step - accuracy: 0.8334 - loss: 0.6387 - val_accuracy: 0.4805 - val_loss: 2.4356\n",
      "Epoch 26/50\n",
      "\u001b[1m123/123\u001b[0m \u001b[32m━━━━━━━━━━━━━━━━━━━━\u001b[0m\u001b[37m\u001b[0m \u001b[1m134s\u001b[0m 1s/step - accuracy: 0.8540 - loss: 0.5867 - val_accuracy: 0.4897 - val_loss: 2.3990\n",
      "Epoch 27/50\n",
      "\u001b[1m123/123\u001b[0m \u001b[32m━━━━━━━━━━━━━━━━━━━━\u001b[0m\u001b[37m\u001b[0m \u001b[1m134s\u001b[0m 1s/step - accuracy: 0.8651 - loss: 0.5488 - val_accuracy: 0.4531 - val_loss: 2.5643\n",
      "Epoch 28/50\n",
      "\u001b[1m123/123\u001b[0m \u001b[32m━━━━━━━━━━━━━━━━━━━━\u001b[0m\u001b[37m\u001b[0m \u001b[1m134s\u001b[0m 1s/step - accuracy: 0.8384 - loss: 0.6459 - val_accuracy: 0.4554 - val_loss: 2.5255\n",
      "Epoch 29/50\n",
      "\u001b[1m123/123\u001b[0m \u001b[32m━━━━━━━━━━━━━━━━━━━━\u001b[0m\u001b[37m\u001b[0m \u001b[1m135s\u001b[0m 1s/step - accuracy: 0.7576 - loss: 0.8616 - val_accuracy: 0.4485 - val_loss: 2.2447\n",
      "Epoch 30/50\n",
      "\u001b[1m123/123\u001b[0m \u001b[32m━━━━━━━━━━━━━━━━━━━━\u001b[0m\u001b[37m\u001b[0m \u001b[1m134s\u001b[0m 1s/step - accuracy: 0.8670 - loss: 0.5676 - val_accuracy: 0.5057 - val_loss: 2.6199\n",
      "Epoch 31/50\n",
      "\u001b[1m123/123\u001b[0m \u001b[32m━━━━━━━━━━━━━━━━━━━━\u001b[0m\u001b[37m\u001b[0m \u001b[1m134s\u001b[0m 1s/step - accuracy: 0.8820 - loss: 0.5064 - val_accuracy: 0.4073 - val_loss: 2.6359\n",
      "Epoch 32/50\n",
      "\u001b[1m123/123\u001b[0m \u001b[32m━━━━━━━━━━━━━━━━━━━━\u001b[0m\u001b[37m\u001b[0m \u001b[1m133s\u001b[0m 1s/step - accuracy: 0.8767 - loss: 0.5129 - val_accuracy: 0.4394 - val_loss: 2.6589\n",
      "Epoch 33/50\n",
      "\u001b[1m123/123\u001b[0m \u001b[32m━━━━━━━━━━━━━━━━━━━━\u001b[0m\u001b[37m\u001b[0m \u001b[1m134s\u001b[0m 1s/step - accuracy: 0.8736 - loss: 0.5178 - val_accuracy: 0.5195 - val_loss: 2.0571\n",
      "Epoch 34/50\n",
      "\u001b[1m123/123\u001b[0m \u001b[32m━━━━━━━━━━━━━━━━━━━━\u001b[0m\u001b[37m\u001b[0m \u001b[1m133s\u001b[0m 1s/step - accuracy: 0.9097 - loss: 0.4244 - val_accuracy: 0.4508 - val_loss: 3.1189\n",
      "Epoch 35/50\n",
      "\u001b[1m123/123\u001b[0m \u001b[32m━━━━━━━━━━━━━━━━━━━━\u001b[0m\u001b[37m\u001b[0m \u001b[1m133s\u001b[0m 1s/step - accuracy: 0.9248 - loss: 0.3669 - val_accuracy: 0.4920 - val_loss: 2.5875\n",
      "Epoch 36/50\n",
      "\u001b[1m123/123\u001b[0m \u001b[32m━━━━━━━━━━━━━━━━━━━━\u001b[0m\u001b[37m\u001b[0m \u001b[1m133s\u001b[0m 1s/step - accuracy: 0.9370 - loss: 0.3322 - val_accuracy: 0.5195 - val_loss: 3.5168\n",
      "Epoch 37/50\n",
      "\u001b[1m123/123\u001b[0m \u001b[32m━━━━━━━━━━━━━━━━━━━━\u001b[0m\u001b[37m\u001b[0m \u001b[1m134s\u001b[0m 1s/step - accuracy: 0.9325 - loss: 0.3441 - val_accuracy: 0.4828 - val_loss: 3.0360\n",
      "Epoch 38/50\n",
      "\u001b[1m123/123\u001b[0m \u001b[32m━━━━━━━━━━━━━━━━━━━━\u001b[0m\u001b[37m\u001b[0m \u001b[1m135s\u001b[0m 1s/step - accuracy: 0.8864 - loss: 0.4766 - val_accuracy: 0.4600 - val_loss: 3.0788\n",
      "Epoch 39/50\n",
      "\u001b[1m123/123\u001b[0m \u001b[32m━━━━━━━━━━━━━━━━━━━━\u001b[0m\u001b[37m\u001b[0m \u001b[1m133s\u001b[0m 1s/step - accuracy: 0.8656 - loss: 0.5704 - val_accuracy: 0.4622 - val_loss: 3.0900\n",
      "Epoch 40/50\n",
      "\u001b[1m123/123\u001b[0m \u001b[32m━━━━━━━━━━━━━━━━━━━━\u001b[0m\u001b[37m\u001b[0m \u001b[1m134s\u001b[0m 1s/step - accuracy: 0.9185 - loss: 0.3988 - val_accuracy: 0.4760 - val_loss: 2.7670\n",
      "Epoch 41/50\n",
      "\u001b[1m123/123\u001b[0m \u001b[32m━━━━━━━━━━━━━━━━━━━━\u001b[0m\u001b[37m\u001b[0m \u001b[1m135s\u001b[0m 1s/step - accuracy: 0.9328 - loss: 0.3420 - val_accuracy: 0.4737 - val_loss: 3.0041\n",
      "Epoch 42/50\n",
      "\u001b[1m123/123\u001b[0m \u001b[32m━━━━━━━━━━━━━━━━━━━━\u001b[0m\u001b[37m\u001b[0m \u001b[1m134s\u001b[0m 1s/step - accuracy: 0.9044 - loss: 0.4039 - val_accuracy: 0.4943 - val_loss: 2.6752\n",
      "Epoch 43/50\n",
      "\u001b[1m123/123\u001b[0m \u001b[32m━━━━━━━━━━━━━━━━━━━━\u001b[0m\u001b[37m\u001b[0m \u001b[1m134s\u001b[0m 1s/step - accuracy: 0.9422 - loss: 0.3119 - val_accuracy: 0.4485 - val_loss: 3.6868\n",
      "Epoch 44/50\n",
      "\u001b[1m123/123\u001b[0m \u001b[32m━━━━━━━━━━━━━━━━━━━━\u001b[0m\u001b[37m\u001b[0m \u001b[1m135s\u001b[0m 1s/step - accuracy: 0.9636 - loss: 0.2520 - val_accuracy: 0.4622 - val_loss: 3.6053\n",
      "Epoch 45/50\n",
      "\u001b[1m123/123\u001b[0m \u001b[32m━━━━━━━━━━━━━━━━━━━━\u001b[0m\u001b[37m\u001b[0m \u001b[1m135s\u001b[0m 1s/step - accuracy: 0.9486 - loss: 0.3070 - val_accuracy: 0.4668 - val_loss: 4.1677\n",
      "Epoch 46/50\n",
      "\u001b[1m123/123\u001b[0m \u001b[32m━━━━━━━━━━━━━━━━━━━━\u001b[0m\u001b[37m\u001b[0m \u001b[1m134s\u001b[0m 1s/step - accuracy: 0.9738 - loss: 0.2091 - val_accuracy: 0.4577 - val_loss: 3.8561\n",
      "Epoch 47/50\n",
      "\u001b[1m123/123\u001b[0m \u001b[32m━━━━━━━━━━━━━━━━━━━━\u001b[0m\u001b[37m\u001b[0m \u001b[1m135s\u001b[0m 1s/step - accuracy: 0.9484 - loss: 0.2863 - val_accuracy: 0.4714 - val_loss: 4.0513\n",
      "Epoch 48/50\n",
      "\u001b[1m123/123\u001b[0m \u001b[32m━━━━━━━━━━━━━━━━━━━━\u001b[0m\u001b[37m\u001b[0m \u001b[1m135s\u001b[0m 1s/step - accuracy: 0.9637 - loss: 0.2194 - val_accuracy: 0.4943 - val_loss: 3.9112\n",
      "Epoch 49/50\n",
      "\u001b[1m123/123\u001b[0m \u001b[32m━━━━━━━━━━━━━━━━━━━━\u001b[0m\u001b[37m\u001b[0m \u001b[1m135s\u001b[0m 1s/step - accuracy: 0.9219 - loss: 0.3785 - val_accuracy: 0.5011 - val_loss: 3.8922\n",
      "Epoch 50/50\n",
      "\u001b[1m123/123\u001b[0m \u001b[32m━━━━━━━━━━━━━━━━━━━━\u001b[0m\u001b[37m\u001b[0m \u001b[1m134s\u001b[0m 1s/step - accuracy: 0.9127 - loss: 0.3991 - val_accuracy: 0.4302 - val_loss: 3.8440\n",
      "\u001b[1m14/14\u001b[0m \u001b[32m━━━━━━━━━━━━━━━━━━━━\u001b[0m\u001b[37m\u001b[0m \u001b[1m6s\u001b[0m 243ms/step\n",
      "\u001b[1m14/14\u001b[0m \u001b[32m━━━━━━━━━━━━━━━━━━━━\u001b[0m\u001b[37m\u001b[0m \u001b[1m1s\u001b[0m 60ms/step - accuracy: 0.3931 - loss: 4.1554\n"
     ]
    },
    {
     "name": "stderr",
     "output_type": "stream",
     "text": [
      "WARNING:absl:The `save_format` argument is deprecated in Keras 3. We recommend removing this argument as it can be inferred from the file path. Received: save_format=keras\n"
     ]
    },
    {
     "ename": "FileNotFoundError",
     "evalue": "[Errno 2] No such file or directory: 'kfold_metrics_LSTM/model_fold1.keras'",
     "output_type": "error",
     "traceback": [
      "\u001b[1;31m---------------------------------------------------------------------------\u001b[0m",
      "\u001b[1;31mFileNotFoundError\u001b[0m                         Traceback (most recent call last)",
      "Cell \u001b[1;32mIn[13], line 86\u001b[0m\n\u001b[0;32m     76\u001b[0m m_metrics \u001b[38;5;241m=\u001b[39m {\n\u001b[0;32m     77\u001b[0m     \u001b[38;5;124m'\u001b[39m\u001b[38;5;124mloss\u001b[39m\u001b[38;5;124m'\u001b[39m: TestLoss, \n\u001b[0;32m     78\u001b[0m     \u001b[38;5;124m'\u001b[39m\u001b[38;5;124maccuracy\u001b[39m\u001b[38;5;124m'\u001b[39m: Testacc, \n\u001b[1;32m   (...)\u001b[0m\n\u001b[0;32m     81\u001b[0m     \u001b[38;5;124m'\u001b[39m\u001b[38;5;124mhistory_dict\u001b[39m\u001b[38;5;124m'\u001b[39m: LSTM\u001b[38;5;241m.\u001b[39mhistory\n\u001b[0;32m     82\u001b[0m }\n\u001b[0;32m     84\u001b[0m fold_metrics\u001b[38;5;241m.\u001b[39mappend(m_metrics)\n\u001b[1;32m---> 86\u001b[0m \u001b[43mmodel\u001b[49m\u001b[38;5;241;43m.\u001b[39;49m\u001b[43msave\u001b[49m\u001b[43m(\u001b[49m\u001b[38;5;124;43mf\u001b[39;49m\u001b[38;5;124;43m\"\u001b[39;49m\u001b[38;5;124;43mkfold_metrics_LSTM/model_fold\u001b[39;49m\u001b[38;5;132;43;01m{\u001b[39;49;00m\u001b[43mfold\u001b[49m\u001b[38;5;241;43m+\u001b[39;49m\u001b[38;5;241;43m1\u001b[39;49m\u001b[38;5;132;43;01m}\u001b[39;49;00m\u001b[38;5;124;43m.keras\u001b[39;49m\u001b[38;5;124;43m\"\u001b[39;49m\u001b[43m,\u001b[49m\u001b[43m \u001b[49m\u001b[43msave_format\u001b[49m\u001b[38;5;241;43m=\u001b[39;49m\u001b[38;5;124;43m\"\u001b[39;49m\u001b[38;5;124;43mkeras\u001b[39;49m\u001b[38;5;124;43m\"\u001b[39;49m\u001b[43m)\u001b[49m\n\u001b[0;32m     87\u001b[0m save_pkl(fold_metrics, \u001b[38;5;124mf\u001b[39m\u001b[38;5;124m\"\u001b[39m\u001b[38;5;124mkfold_metrics_LSTM/metrics\u001b[39m\u001b[38;5;132;01m{\u001b[39;00mfold\u001b[38;5;241m+\u001b[39m\u001b[38;5;241m1\u001b[39m\u001b[38;5;132;01m}\u001b[39;00m\u001b[38;5;124m.pkl\u001b[39m\u001b[38;5;124m\"\u001b[39m)\n\u001b[0;32m     89\u001b[0m \u001b[38;5;66;03m# Restart model to avoid memory leakage\u001b[39;00m\n",
      "File \u001b[1;32mc:\\Users\\joaob\\Documents\\GitHub\\Sound_Classification\\.venv\\Lib\\site-packages\\keras\\src\\utils\\traceback_utils.py:122\u001b[0m, in \u001b[0;36mfilter_traceback.<locals>.error_handler\u001b[1;34m(*args, **kwargs)\u001b[0m\n\u001b[0;32m    119\u001b[0m     filtered_tb \u001b[38;5;241m=\u001b[39m _process_traceback_frames(e\u001b[38;5;241m.\u001b[39m__traceback__)\n\u001b[0;32m    120\u001b[0m     \u001b[38;5;66;03m# To get the full stack trace, call:\u001b[39;00m\n\u001b[0;32m    121\u001b[0m     \u001b[38;5;66;03m# `keras.config.disable_traceback_filtering()`\u001b[39;00m\n\u001b[1;32m--> 122\u001b[0m     \u001b[38;5;28;01mraise\u001b[39;00m e\u001b[38;5;241m.\u001b[39mwith_traceback(filtered_tb) \u001b[38;5;28;01mfrom\u001b[39;00m \u001b[38;5;28;01mNone\u001b[39;00m\n\u001b[0;32m    123\u001b[0m \u001b[38;5;28;01mfinally\u001b[39;00m:\n\u001b[0;32m    124\u001b[0m     \u001b[38;5;28;01mdel\u001b[39;00m filtered_tb\n",
      "File \u001b[1;32mc:\\Users\\joaob\\Documents\\GitHub\\Sound_Classification\\.venv\\Lib\\site-packages\\keras\\src\\saving\\saving_lib.py:141\u001b[0m, in \u001b[0;36msave_model\u001b[1;34m(model, filepath, weights_format, zipped)\u001b[0m\n\u001b[0;32m    139\u001b[0m         f\u001b[38;5;241m.\u001b[39mwrite(zip_filepath\u001b[38;5;241m.\u001b[39mgetvalue())\n\u001b[0;32m    140\u001b[0m \u001b[38;5;28;01melse\u001b[39;00m:\n\u001b[1;32m--> 141\u001b[0m     \u001b[38;5;28;01mwith\u001b[39;00m \u001b[38;5;28;43mopen\u001b[39;49m\u001b[43m(\u001b[49m\u001b[43mfilepath\u001b[49m\u001b[43m,\u001b[49m\u001b[43m \u001b[49m\u001b[38;5;124;43m\"\u001b[39;49m\u001b[38;5;124;43mwb\u001b[39;49m\u001b[38;5;124;43m\"\u001b[39;49m\u001b[43m)\u001b[49m \u001b[38;5;28;01mas\u001b[39;00m f:\n\u001b[0;32m    142\u001b[0m         _save_model_to_fileobj(model, f, weights_format)\n",
      "\u001b[1;31mFileNotFoundError\u001b[0m: [Errno 2] No such file or directory: 'kfold_metrics_LSTM/model_fold1.keras'"
     ]
    }
   ],
   "source": [
    "from sklearn.model_selection import train_test_split\n",
    "from sklearn.metrics import confusion_matrix\n",
    "import keras\n",
    "import numpy as np\n",
    "\n",
    "fold_metrics = []\n",
    "EPOCHS = 50\n",
    "fold = 0  # Current fold to be used as test set\n",
    "\n",
    "print(f\"Fold {fold+1}:\")\n",
    "\n",
    "# Initialize lists for train/test sets\n",
    "X_train, y_train = [], []\n",
    "X_test, y_test = None, None\n",
    "\n",
    "# Splitting the data into Train, Test, and Validation sets\n",
    "for i in range(10):\n",
    "    if i != fold:\n",
    "        # Append data for training\n",
    "        if len(X_train) == 0:  # Initialize for the first fold\n",
    "            X_train = features[i]\n",
    "            y_train = label[i]\n",
    "        else:\n",
    "            X_train = np.concatenate((X_train, features[i]), axis=0)\n",
    "            y_train = np.concatenate((y_train, label[i]), axis=0)\n",
    "    else:\n",
    "        # Set test data\n",
    "        X_test = features[i]\n",
    "        y_test = label[i]\n",
    "\n",
    "# Split test set into test and validation sets\n",
    "X_test, X_val, y_test, y_val = train_test_split(X_test, y_test, test_size=0.5, random_state=123)\n",
    "\n",
    "# Convert data to numpy arrays if not already\n",
    "X_train = np.array(X_train)\n",
    "y_train = np.array(y_train)\n",
    "X_test = np.array(X_test)\n",
    "y_test = np.array(y_test)\n",
    "X_val = np.array(X_val)\n",
    "y_val = np.array(y_val)\n",
    "\n",
    "# Print set shapes\n",
    "print(f\"X_train Shape: {X_train.shape}\")\n",
    "print(f\"y_train Shape: {y_train.shape}\")\n",
    "print(f\"X_test Shape: {X_test.shape}\")\n",
    "print(f\"y_test Shape: {y_test.shape}\")\n",
    "print(f\"X_val Shape: {X_val.shape}\")\n",
    "print(f\"y_val Shape: {y_val.shape}\")\n",
    "\n",
    "# Compile model\n",
    "optimizer = keras.optimizers.Adam(learning_rate=0.001)\n",
    "model.compile(\n",
    "    optimizer=optimizer, \n",
    "    loss='categorical_crossentropy', \n",
    "    metrics=['accuracy']\n",
    ")\n",
    "\n",
    "# Train model\n",
    "LSTM = model.fit(\n",
    "    X_train, y_train, \n",
    "    epochs=EPOCHS,\n",
    "    batch_size=64, \n",
    "    shuffle=False, \n",
    "    validation_data=(X_val, y_val)\n",
    ")\n",
    "\n",
    "# Predict unseen data\n",
    "y_pred = model.predict(X_test)\n",
    "\n",
    "# Evaluate the model\n",
    "y_pred_reshape = np.argmax(y_pred, axis=1)\n",
    "y_test_reshape = np.argmax(y_test, axis=1)\n",
    "TestLoss, Testacc = model.evaluate(X_test, y_test)\n",
    "\n",
    "# Save fold results\n",
    "m_metrics = {\n",
    "    'loss': TestLoss, \n",
    "    'accuracy': Testacc, \n",
    "    'confusion_matrix': confusion_matrix(y_test_reshape, y_pred_reshape), \n",
    "    'history': model, \n",
    "    'history_dict': LSTM.history\n",
    "}\n",
    "\n",
    "fold_metrics.append(m_metrics)\n",
    "\n",
    "model.save(f\"kfold_metrics_LSTM/model_fold{fold+1}.keras\", save_format=\"keras\")\n",
    "save_pkl(fold_metrics, f\"kfold_metrics_LSTM/metrics{fold+1}.pkl\")\n",
    "\n",
    "# Restart model to avoid memory leakage\n",
    "del model\n",
    "keras.backend.clear_session()\n",
    "\n",
    "print(\"Done.\")\n"
   ]
  },
  {
   "cell_type": "code",
   "execution_count": null,
   "metadata": {},
   "outputs": [],
   "source": [
    "epochs = range(1, EPOCHS + 1)\n",
    "\n",
    "fig, ax = plt.subplots(len(fold_metrics), 2, figsize=(10, 5*len(fold_metrics)))\n",
    "\n",
    "i = 0\n",
    "history_dict = fold_metrics[i].get('history_dict')\n",
    "loss_values=history_dict['loss']\n",
    "acc_values=history_dict['accuracy']\n",
    "val_loss_values = history_dict['val_loss']\n",
    "val_acc_values = history_dict['val_accuracy']\n",
    "\n",
    "ax[i,0].plot(epochs,loss_values,'co',label='Training Loss')\n",
    "ax[i,0].plot(epochs,val_loss_values,'m', label='Validation Loss')\n",
    "ax[i,0].set_title('Training and validation loss on fold '+str(i+1)+' of 10')\n",
    "ax[i,0].set_xlabel('Epochs')\n",
    "ax[i,0].set_ylabel('Loss')\n",
    "ax[i,0].legend()\n",
    "\n",
    "ax[i,1].plot(epochs,acc_values,'co', label='Training accuracy')\n",
    "ax[i,1].plot(epochs,val_acc_values,'m', label='Validation accuracy')\n",
    "ax[i,1].set_title('Training and validation accuracy on fold '+str(i+1)+' of 10')\n",
    "ax[i,1].set_xlabel('Epochs')\n",
    "ax[i,1].set_ylabel('Accuracy')\n",
    "ax[i,1].legend()\n",
    "plt.show()"
   ]
  },
  {
   "cell_type": "code",
   "execution_count": null,
   "metadata": {},
   "outputs": [],
   "source": [
    "fig, ax =plt.subplots(5, 2, figsize=(15,3*len(fold_metrics)))\n",
    "\n",
    "i = 0\n",
    "cm = fold_metrics[i].get('confusion_matrix')\n",
    "ax[i//2,i%2].set_title('Confusion matrix on fold '+str(i+1)+' of 10')\n",
    "sns.heatmap(cm, annot=True, fmt=\".0f\", linewidths=.5, square = True, cmap = 'cool', ax=ax[i//2,i%2])\n",
    "\n",
    "plt.show()"
   ]
  },
  {
   "cell_type": "markdown",
   "metadata": {},
   "source": [
    "### antigo"
   ]
  },
  {
   "cell_type": "code",
   "execution_count": null,
   "metadata": {},
   "outputs": [
    {
     "name": "stdout",
     "output_type": "stream",
     "text": [
      "Fold 1:\n"
     ]
    }
   ],
   "source": [
    "from sklearn.model_selection import train_test_split\n",
    "from sklearn.metrics import confusion_matrix\n",
    "import keras\n",
    "fold_metrics = []\n",
    "EPOCHS = 50\n",
    "fold = 0\n",
    "\n",
    "f = \"fold\" + str(fold+1)\n",
    "print(\"Fold \"+str(fold+1)+\":\")\n",
    "\n",
    "X_train, y_train = [], []\n",
    "X_test, y_test = [], []\n",
    "    \n",
    "# Splitting the data into Test, Validation and Training sets\n",
    "for i in range(10):\n",
    "    if( i != fold):\n",
    "        X_train += features[i].tolist()\n",
    "        y_train.extend(label[i])\n",
    "        \n",
    "    else:\n",
    "        X_test = features[i]\n",
    "        y_test = labels[i]\n",
    "\n",
    "    \n",
    "X_train = np.array(X_train)\n",
    "y_train = np.array(y_train)\n",
    "X_test = np.array(X_test)\n",
    "y_test = np.array(y_test)\n",
    "        \n",
    "X_test, X_val, y_test, y_val = train_test_split(X_test, y_test, test_size = 0.5, random_state = 123)\n",
    "\n",
    "# Print sets shapes\n",
    "print(f\"X_train Shape: {X_train.shape}\")\n",
    "print(f\"X_test Shape: {X_test.shape}\")\n",
    "print(f\"X_val Shape: {X_val.shape}\")\n",
    "\n",
    "\n",
    "optimizer = keras.optimizers.Adam(learning_rate = 0.001)\n",
    "model.compile(\n",
    "    optimizer = optimizer, \n",
    "    loss = 'categorical_crossentropy', \n",
    "    metrics=['accuracy']\n",
    ")\n",
    "\n",
    "# Train model\n",
    "LSTM = model.fit(\n",
    "    X_train, y_train, \n",
    "    epochs = EPOCHS,\n",
    "    batch_size = 64, \n",
    "    shuffle = False, \n",
    "    validation_data=(X_val, y_val)\n",
    ")\n",
    "\n",
    "# Predict unseen data\n",
    "y_pred = model.predict(X_test)\n",
    "\n",
    "y_pred_reshape = np.argmax(y_pred, axis=1)\n",
    "y_test_reshape = np.argmax(y_test, axis=1)\n",
    "TestLoss, Testacc = model.evaluate(X_test, y_test)\n",
    "\n",
    "# Save fold results\n",
    "m_metrics = {\n",
    "    'loss': TestLoss, \n",
    "    'accuracy': Testacc, \n",
    "    'confusion_matrix': confusion_matrix(y_test_reshape, y_pred_reshape), \n",
    "    'history': model, 'history_dict': LSTM.history\n",
    "}\n",
    "\n",
    "fold_metrics.append(m_metrics)\n",
    "\n",
    "model.save(f\"kfold_metrics_LSTM/model_fold{fold+1}.keras\", save_format=\"keras\")\n",
    "save_pkl(fold_metrics, f\"kfold_metrics_LSTM/metrics{fold+1}.pkl\")\n",
    "\n",
    "# restart model to avoid memory leakage\n",
    "del model \n",
    "\n",
    "print(\"Done.\")"
   ]
  },
  {
   "cell_type": "markdown",
   "metadata": {},
   "source": [
    "performance evaluation"
   ]
  }
 ],
 "metadata": {
  "kernelspec": {
   "display_name": ".venv",
   "language": "python",
   "name": "python3"
  },
  "language_info": {
   "codemirror_mode": {
    "name": "ipython",
    "version": 3
   },
   "file_extension": ".py",
   "mimetype": "text/x-python",
   "name": "python",
   "nbconvert_exporter": "python",
   "pygments_lexer": "ipython3",
   "version": "3.12.6"
  }
 },
 "nbformat": 4,
 "nbformat_minor": 2
}
