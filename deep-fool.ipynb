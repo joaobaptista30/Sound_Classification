{
 "cells": [
  {
   "cell_type": "markdown",
   "metadata": {},
   "source": [
    "## DeepFool Algorithm"
   ]
  },
  {
   "cell_type": "markdown",
   "metadata": {},
   "source": [
    "Cálculo dos Gradientes"
   ]
  },
  {
   "cell_type": "code",
   "execution_count": null,
   "metadata": {},
   "outputs": [],
   "source": [
    "import tensorflow as tf\n",
    "import numpy as np\n",
    "from copy import deepcopy\n",
    "\n",
    "def get_gradients(model, x): # get gradients for all the classes at the same time (with respect to the input)\n",
    "\n",
    "    with tf.GradientTape() as gtape:\n",
    "        inputs = [tf.cast(input_value, dtype = tf.float64) for input_value in x]\n",
    "        for input_value in inputs:\n",
    "            gtape.watch(input_value)\n",
    "        results = model(inputs)\n",
    "\n",
    "    gradients = gtape.gradient(results, inputs)\n",
    "    del tape\n",
    "    return [grad.numpy() for grad in gradients], results.numpy()"
   ]
  },
  {
   "cell_type": "code",
   "execution_count": null,
   "metadata": {},
   "outputs": [],
   "source": []
  }
 ],
 "metadata": {
  "kernelspec": {
   "display_name": "base",
   "language": "python",
   "name": "python3"
  },
  "language_info": {
   "codemirror_mode": {
    "name": "ipython",
    "version": 3
   },
   "file_extension": ".py",
   "mimetype": "text/x-python",
   "name": "python",
   "nbconvert_exporter": "python",
   "pygments_lexer": "ipython3",
   "version": "3.11.7"
  }
 },
 "nbformat": 4,
 "nbformat_minor": 2
}
